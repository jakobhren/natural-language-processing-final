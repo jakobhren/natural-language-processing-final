{
  "cells": [
    {
      "cell_type": "markdown",
      "metadata": {
        "id": "H4IHEScMMxqB"
      },
      "source": [
        "# Natural Language Processing Final Assignment"
      ]
    },
    {
      "cell_type": "markdown",
      "metadata": {
        "id": "N7ISqvoYMxqD"
      },
      "source": [
        "## Real - Fake News Classification: A Comparison of Natural Language Models for Classification"
      ]
    },
    {
      "cell_type": "code",
      "execution_count": 28,
      "metadata": {
        "id": "25DzqaE2MxqG"
      },
      "outputs": [],
      "source": [
        "# Import Libraries\n",
        "import json\n",
        "import pandas as pd\n",
        "import numpy as np\n",
        "from sklearn.model_selection import train_test_split\n",
        "import string\n",
        "import re\n",
        "import nltk\n",
        "from nltk.corpus import stopwords\n",
        "from nltk.stem import WordNetLemmatizer\n",
        "from sklearn.metrics import (\n",
        "    classification_report,\n",
        "    accuracy_score,\n",
        "    precision_score,\n",
        "    recall_score,\n",
        "    f1_score\n",
        ")\n",
        "from sklearn.pipeline import make_pipeline\n",
        "from sklearn.base import clone\n",
        "from sklearn.linear_model import LogisticRegression\n",
        "from sklearn.feature_extraction.text import TfidfVectorizer, CountVectorizer\n",
        "from sklearn.naive_bayes import MultinomialNB\n",
        "from sklearn.ensemble import RandomForestClassifier\n",
        "from sklearn.neural_network import MLPClassifier\n",
        "\n"
      ]
    },
    {
      "cell_type": "code",
      "execution_count": 12,
      "metadata": {
        "colab": {
          "base_uri": "https://localhost:8080/",
          "height": 514
        },
        "id": "D53wynE3MxqI",
        "outputId": "ca7d7531-b6f5-4e5e-c2de-47dfdbd10ed7"
      },
      "outputs": [
        {
          "output_type": "error",
          "ename": "ParserError",
          "evalue": "Error tokenizing data. C error: EOF inside string starting at row 34730",
          "traceback": [
            "\u001b[0;31m---------------------------------------------------------------------------\u001b[0m",
            "\u001b[0;31mParserError\u001b[0m                               Traceback (most recent call last)",
            "\u001b[0;32m<ipython-input-12-21595b449d90>\u001b[0m in \u001b[0;36m<cell line: 0>\u001b[0;34m()\u001b[0m\n\u001b[1;32m      1\u001b[0m \u001b[0;31m# Load Data\u001b[0m\u001b[0;34m\u001b[0m\u001b[0;34m\u001b[0m\u001b[0m\n\u001b[1;32m      2\u001b[0m \u001b[0;34m\u001b[0m\u001b[0m\n\u001b[0;32m----> 3\u001b[0;31m \u001b[0mdf_raw\u001b[0m \u001b[0;34m=\u001b[0m \u001b[0mpd\u001b[0m\u001b[0;34m.\u001b[0m\u001b[0mread_csv\u001b[0m\u001b[0;34m(\u001b[0m\u001b[0;34m\"news_dataset.csv\"\u001b[0m\u001b[0;34m)\u001b[0m\u001b[0;34m\u001b[0m\u001b[0;34m\u001b[0m\u001b[0m\n\u001b[0m",
            "\u001b[0;32m/usr/local/lib/python3.11/dist-packages/pandas/io/parsers/readers.py\u001b[0m in \u001b[0;36mread_csv\u001b[0;34m(filepath_or_buffer, sep, delimiter, header, names, index_col, usecols, dtype, engine, converters, true_values, false_values, skipinitialspace, skiprows, skipfooter, nrows, na_values, keep_default_na, na_filter, verbose, skip_blank_lines, parse_dates, infer_datetime_format, keep_date_col, date_parser, date_format, dayfirst, cache_dates, iterator, chunksize, compression, thousands, decimal, lineterminator, quotechar, quoting, doublequote, escapechar, comment, encoding, encoding_errors, dialect, on_bad_lines, delim_whitespace, low_memory, memory_map, float_precision, storage_options, dtype_backend)\u001b[0m\n\u001b[1;32m   1024\u001b[0m     \u001b[0mkwds\u001b[0m\u001b[0;34m.\u001b[0m\u001b[0mupdate\u001b[0m\u001b[0;34m(\u001b[0m\u001b[0mkwds_defaults\u001b[0m\u001b[0;34m)\u001b[0m\u001b[0;34m\u001b[0m\u001b[0;34m\u001b[0m\u001b[0m\n\u001b[1;32m   1025\u001b[0m \u001b[0;34m\u001b[0m\u001b[0m\n\u001b[0;32m-> 1026\u001b[0;31m     \u001b[0;32mreturn\u001b[0m \u001b[0m_read\u001b[0m\u001b[0;34m(\u001b[0m\u001b[0mfilepath_or_buffer\u001b[0m\u001b[0;34m,\u001b[0m \u001b[0mkwds\u001b[0m\u001b[0;34m)\u001b[0m\u001b[0;34m\u001b[0m\u001b[0;34m\u001b[0m\u001b[0m\n\u001b[0m\u001b[1;32m   1027\u001b[0m \u001b[0;34m\u001b[0m\u001b[0m\n\u001b[1;32m   1028\u001b[0m \u001b[0;34m\u001b[0m\u001b[0m\n",
            "\u001b[0;32m/usr/local/lib/python3.11/dist-packages/pandas/io/parsers/readers.py\u001b[0m in \u001b[0;36m_read\u001b[0;34m(filepath_or_buffer, kwds)\u001b[0m\n\u001b[1;32m    624\u001b[0m \u001b[0;34m\u001b[0m\u001b[0m\n\u001b[1;32m    625\u001b[0m     \u001b[0;32mwith\u001b[0m \u001b[0mparser\u001b[0m\u001b[0;34m:\u001b[0m\u001b[0;34m\u001b[0m\u001b[0;34m\u001b[0m\u001b[0m\n\u001b[0;32m--> 626\u001b[0;31m         \u001b[0;32mreturn\u001b[0m \u001b[0mparser\u001b[0m\u001b[0;34m.\u001b[0m\u001b[0mread\u001b[0m\u001b[0;34m(\u001b[0m\u001b[0mnrows\u001b[0m\u001b[0;34m)\u001b[0m\u001b[0;34m\u001b[0m\u001b[0;34m\u001b[0m\u001b[0m\n\u001b[0m\u001b[1;32m    627\u001b[0m \u001b[0;34m\u001b[0m\u001b[0m\n\u001b[1;32m    628\u001b[0m \u001b[0;34m\u001b[0m\u001b[0m\n",
            "\u001b[0;32m/usr/local/lib/python3.11/dist-packages/pandas/io/parsers/readers.py\u001b[0m in \u001b[0;36mread\u001b[0;34m(self, nrows)\u001b[0m\n\u001b[1;32m   1921\u001b[0m                     \u001b[0mcolumns\u001b[0m\u001b[0;34m,\u001b[0m\u001b[0;34m\u001b[0m\u001b[0;34m\u001b[0m\u001b[0m\n\u001b[1;32m   1922\u001b[0m                     \u001b[0mcol_dict\u001b[0m\u001b[0;34m,\u001b[0m\u001b[0;34m\u001b[0m\u001b[0;34m\u001b[0m\u001b[0m\n\u001b[0;32m-> 1923\u001b[0;31m                 \u001b[0;34m)\u001b[0m \u001b[0;34m=\u001b[0m \u001b[0mself\u001b[0m\u001b[0;34m.\u001b[0m\u001b[0m_engine\u001b[0m\u001b[0;34m.\u001b[0m\u001b[0mread\u001b[0m\u001b[0;34m(\u001b[0m  \u001b[0;31m# type: ignore[attr-defined]\u001b[0m\u001b[0;34m\u001b[0m\u001b[0;34m\u001b[0m\u001b[0m\n\u001b[0m\u001b[1;32m   1924\u001b[0m                     \u001b[0mnrows\u001b[0m\u001b[0;34m\u001b[0m\u001b[0;34m\u001b[0m\u001b[0m\n\u001b[1;32m   1925\u001b[0m                 )\n",
            "\u001b[0;32m/usr/local/lib/python3.11/dist-packages/pandas/io/parsers/c_parser_wrapper.py\u001b[0m in \u001b[0;36mread\u001b[0;34m(self, nrows)\u001b[0m\n\u001b[1;32m    232\u001b[0m         \u001b[0;32mtry\u001b[0m\u001b[0;34m:\u001b[0m\u001b[0;34m\u001b[0m\u001b[0;34m\u001b[0m\u001b[0m\n\u001b[1;32m    233\u001b[0m             \u001b[0;32mif\u001b[0m \u001b[0mself\u001b[0m\u001b[0;34m.\u001b[0m\u001b[0mlow_memory\u001b[0m\u001b[0;34m:\u001b[0m\u001b[0;34m\u001b[0m\u001b[0;34m\u001b[0m\u001b[0m\n\u001b[0;32m--> 234\u001b[0;31m                 \u001b[0mchunks\u001b[0m \u001b[0;34m=\u001b[0m \u001b[0mself\u001b[0m\u001b[0;34m.\u001b[0m\u001b[0m_reader\u001b[0m\u001b[0;34m.\u001b[0m\u001b[0mread_low_memory\u001b[0m\u001b[0;34m(\u001b[0m\u001b[0mnrows\u001b[0m\u001b[0;34m)\u001b[0m\u001b[0;34m\u001b[0m\u001b[0;34m\u001b[0m\u001b[0m\n\u001b[0m\u001b[1;32m    235\u001b[0m                 \u001b[0;31m# destructive to chunks\u001b[0m\u001b[0;34m\u001b[0m\u001b[0;34m\u001b[0m\u001b[0m\n\u001b[1;32m    236\u001b[0m                 \u001b[0mdata\u001b[0m \u001b[0;34m=\u001b[0m \u001b[0m_concatenate_chunks\u001b[0m\u001b[0;34m(\u001b[0m\u001b[0mchunks\u001b[0m\u001b[0;34m)\u001b[0m\u001b[0;34m\u001b[0m\u001b[0;34m\u001b[0m\u001b[0m\n",
            "\u001b[0;32mparsers.pyx\u001b[0m in \u001b[0;36mpandas._libs.parsers.TextReader.read_low_memory\u001b[0;34m()\u001b[0m\n",
            "\u001b[0;32mparsers.pyx\u001b[0m in \u001b[0;36mpandas._libs.parsers.TextReader._read_rows\u001b[0;34m()\u001b[0m\n",
            "\u001b[0;32mparsers.pyx\u001b[0m in \u001b[0;36mpandas._libs.parsers.TextReader._tokenize_rows\u001b[0;34m()\u001b[0m\n",
            "\u001b[0;32mparsers.pyx\u001b[0m in \u001b[0;36mpandas._libs.parsers.TextReader._check_tokenize_status\u001b[0;34m()\u001b[0m\n",
            "\u001b[0;32mparsers.pyx\u001b[0m in \u001b[0;36mpandas._libs.parsers.raise_parser_error\u001b[0;34m()\u001b[0m\n",
            "\u001b[0;31mParserError\u001b[0m: Error tokenizing data. C error: EOF inside string starting at row 34730"
          ]
        }
      ],
      "source": [
        "# Load Data\n",
        "\n",
        "df_raw = pd.read_csv(\"news_dataset.csv\")"
      ]
    },
    {
      "cell_type": "code",
      "source": [
        "df_raw = pd.read_json(\"Sarcasm_Headlines_Dataset.json\", lines=True)"
      ],
      "metadata": {
        "id": "GWtTaQnedwiI"
      },
      "execution_count": 30,
      "outputs": []
    },
    {
      "source": [
        "# Load Data\n",
        "\n",
        "# Use the 'python' engine which is more flexible for parsing errors\n",
        "df_raw = pd.read_csv(\"news_dataset.csv\", engine='python')"
      ],
      "cell_type": "code",
      "metadata": {
        "id": "0y5qI16hZIev"
      },
      "execution_count": 13,
      "outputs": []
    },
    {
      "cell_type": "code",
      "execution_count": 31,
      "metadata": {
        "colab": {
          "base_uri": "https://localhost:8080/",
          "height": 206
        },
        "id": "6trVVFKrMxqK",
        "outputId": "bf190b3d-51d2-4feb-9089-ebbe304068cc"
      },
      "outputs": [
        {
          "output_type": "execute_result",
          "data": {
            "text/plain": [
              "                                        article_link  \\\n",
              "0  https://www.huffingtonpost.com/entry/versace-b...   \n",
              "1  https://www.huffingtonpost.com/entry/roseanne-...   \n",
              "2  https://local.theonion.com/mom-starting-to-fea...   \n",
              "3  https://politics.theonion.com/boehner-just-wan...   \n",
              "4  https://www.huffingtonpost.com/entry/jk-rowlin...   \n",
              "\n",
              "                                            headline  is_sarcastic  \n",
              "0  former versace store clerk sues over secret 'b...             0  \n",
              "1  the 'roseanne' revival catches up to our thorn...             0  \n",
              "2  mom starting to fear son's web series closest ...             1  \n",
              "3  boehner just wants wife to listen, not come up...             1  \n",
              "4  j.k. rowling wishes snape happy birthday in th...             0  "
            ],
            "text/html": [
              "\n",
              "  <div id=\"df-10f13330-4ca2-43e8-b82c-c74b58de05aa\" class=\"colab-df-container\">\n",
              "    <div>\n",
              "<style scoped>\n",
              "    .dataframe tbody tr th:only-of-type {\n",
              "        vertical-align: middle;\n",
              "    }\n",
              "\n",
              "    .dataframe tbody tr th {\n",
              "        vertical-align: top;\n",
              "    }\n",
              "\n",
              "    .dataframe thead th {\n",
              "        text-align: right;\n",
              "    }\n",
              "</style>\n",
              "<table border=\"1\" class=\"dataframe\">\n",
              "  <thead>\n",
              "    <tr style=\"text-align: right;\">\n",
              "      <th></th>\n",
              "      <th>article_link</th>\n",
              "      <th>headline</th>\n",
              "      <th>is_sarcastic</th>\n",
              "    </tr>\n",
              "  </thead>\n",
              "  <tbody>\n",
              "    <tr>\n",
              "      <th>0</th>\n",
              "      <td>https://www.huffingtonpost.com/entry/versace-b...</td>\n",
              "      <td>former versace store clerk sues over secret 'b...</td>\n",
              "      <td>0</td>\n",
              "    </tr>\n",
              "    <tr>\n",
              "      <th>1</th>\n",
              "      <td>https://www.huffingtonpost.com/entry/roseanne-...</td>\n",
              "      <td>the 'roseanne' revival catches up to our thorn...</td>\n",
              "      <td>0</td>\n",
              "    </tr>\n",
              "    <tr>\n",
              "      <th>2</th>\n",
              "      <td>https://local.theonion.com/mom-starting-to-fea...</td>\n",
              "      <td>mom starting to fear son's web series closest ...</td>\n",
              "      <td>1</td>\n",
              "    </tr>\n",
              "    <tr>\n",
              "      <th>3</th>\n",
              "      <td>https://politics.theonion.com/boehner-just-wan...</td>\n",
              "      <td>boehner just wants wife to listen, not come up...</td>\n",
              "      <td>1</td>\n",
              "    </tr>\n",
              "    <tr>\n",
              "      <th>4</th>\n",
              "      <td>https://www.huffingtonpost.com/entry/jk-rowlin...</td>\n",
              "      <td>j.k. rowling wishes snape happy birthday in th...</td>\n",
              "      <td>0</td>\n",
              "    </tr>\n",
              "  </tbody>\n",
              "</table>\n",
              "</div>\n",
              "    <div class=\"colab-df-buttons\">\n",
              "\n",
              "  <div class=\"colab-df-container\">\n",
              "    <button class=\"colab-df-convert\" onclick=\"convertToInteractive('df-10f13330-4ca2-43e8-b82c-c74b58de05aa')\"\n",
              "            title=\"Convert this dataframe to an interactive table.\"\n",
              "            style=\"display:none;\">\n",
              "\n",
              "  <svg xmlns=\"http://www.w3.org/2000/svg\" height=\"24px\" viewBox=\"0 -960 960 960\">\n",
              "    <path d=\"M120-120v-720h720v720H120Zm60-500h600v-160H180v160Zm220 220h160v-160H400v160Zm0 220h160v-160H400v160ZM180-400h160v-160H180v160Zm440 0h160v-160H620v160ZM180-180h160v-160H180v160Zm440 0h160v-160H620v160Z\"/>\n",
              "  </svg>\n",
              "    </button>\n",
              "\n",
              "  <style>\n",
              "    .colab-df-container {\n",
              "      display:flex;\n",
              "      gap: 12px;\n",
              "    }\n",
              "\n",
              "    .colab-df-convert {\n",
              "      background-color: #E8F0FE;\n",
              "      border: none;\n",
              "      border-radius: 50%;\n",
              "      cursor: pointer;\n",
              "      display: none;\n",
              "      fill: #1967D2;\n",
              "      height: 32px;\n",
              "      padding: 0 0 0 0;\n",
              "      width: 32px;\n",
              "    }\n",
              "\n",
              "    .colab-df-convert:hover {\n",
              "      background-color: #E2EBFA;\n",
              "      box-shadow: 0px 1px 2px rgba(60, 64, 67, 0.3), 0px 1px 3px 1px rgba(60, 64, 67, 0.15);\n",
              "      fill: #174EA6;\n",
              "    }\n",
              "\n",
              "    .colab-df-buttons div {\n",
              "      margin-bottom: 4px;\n",
              "    }\n",
              "\n",
              "    [theme=dark] .colab-df-convert {\n",
              "      background-color: #3B4455;\n",
              "      fill: #D2E3FC;\n",
              "    }\n",
              "\n",
              "    [theme=dark] .colab-df-convert:hover {\n",
              "      background-color: #434B5C;\n",
              "      box-shadow: 0px 1px 3px 1px rgba(0, 0, 0, 0.15);\n",
              "      filter: drop-shadow(0px 1px 2px rgba(0, 0, 0, 0.3));\n",
              "      fill: #FFFFFF;\n",
              "    }\n",
              "  </style>\n",
              "\n",
              "    <script>\n",
              "      const buttonEl =\n",
              "        document.querySelector('#df-10f13330-4ca2-43e8-b82c-c74b58de05aa button.colab-df-convert');\n",
              "      buttonEl.style.display =\n",
              "        google.colab.kernel.accessAllowed ? 'block' : 'none';\n",
              "\n",
              "      async function convertToInteractive(key) {\n",
              "        const element = document.querySelector('#df-10f13330-4ca2-43e8-b82c-c74b58de05aa');\n",
              "        const dataTable =\n",
              "          await google.colab.kernel.invokeFunction('convertToInteractive',\n",
              "                                                    [key], {});\n",
              "        if (!dataTable) return;\n",
              "\n",
              "        const docLinkHtml = 'Like what you see? Visit the ' +\n",
              "          '<a target=\"_blank\" href=https://colab.research.google.com/notebooks/data_table.ipynb>data table notebook</a>'\n",
              "          + ' to learn more about interactive tables.';\n",
              "        element.innerHTML = '';\n",
              "        dataTable['output_type'] = 'display_data';\n",
              "        await google.colab.output.renderOutput(dataTable, element);\n",
              "        const docLink = document.createElement('div');\n",
              "        docLink.innerHTML = docLinkHtml;\n",
              "        element.appendChild(docLink);\n",
              "      }\n",
              "    </script>\n",
              "  </div>\n",
              "\n",
              "\n",
              "    <div id=\"df-70f7d7b9-7c8f-4d6d-86e0-0f0eb1504a9c\">\n",
              "      <button class=\"colab-df-quickchart\" onclick=\"quickchart('df-70f7d7b9-7c8f-4d6d-86e0-0f0eb1504a9c')\"\n",
              "                title=\"Suggest charts\"\n",
              "                style=\"display:none;\">\n",
              "\n",
              "<svg xmlns=\"http://www.w3.org/2000/svg\" height=\"24px\"viewBox=\"0 0 24 24\"\n",
              "     width=\"24px\">\n",
              "    <g>\n",
              "        <path d=\"M19 3H5c-1.1 0-2 .9-2 2v14c0 1.1.9 2 2 2h14c1.1 0 2-.9 2-2V5c0-1.1-.9-2-2-2zM9 17H7v-7h2v7zm4 0h-2V7h2v10zm4 0h-2v-4h2v4z\"/>\n",
              "    </g>\n",
              "</svg>\n",
              "      </button>\n",
              "\n",
              "<style>\n",
              "  .colab-df-quickchart {\n",
              "      --bg-color: #E8F0FE;\n",
              "      --fill-color: #1967D2;\n",
              "      --hover-bg-color: #E2EBFA;\n",
              "      --hover-fill-color: #174EA6;\n",
              "      --disabled-fill-color: #AAA;\n",
              "      --disabled-bg-color: #DDD;\n",
              "  }\n",
              "\n",
              "  [theme=dark] .colab-df-quickchart {\n",
              "      --bg-color: #3B4455;\n",
              "      --fill-color: #D2E3FC;\n",
              "      --hover-bg-color: #434B5C;\n",
              "      --hover-fill-color: #FFFFFF;\n",
              "      --disabled-bg-color: #3B4455;\n",
              "      --disabled-fill-color: #666;\n",
              "  }\n",
              "\n",
              "  .colab-df-quickchart {\n",
              "    background-color: var(--bg-color);\n",
              "    border: none;\n",
              "    border-radius: 50%;\n",
              "    cursor: pointer;\n",
              "    display: none;\n",
              "    fill: var(--fill-color);\n",
              "    height: 32px;\n",
              "    padding: 0;\n",
              "    width: 32px;\n",
              "  }\n",
              "\n",
              "  .colab-df-quickchart:hover {\n",
              "    background-color: var(--hover-bg-color);\n",
              "    box-shadow: 0 1px 2px rgba(60, 64, 67, 0.3), 0 1px 3px 1px rgba(60, 64, 67, 0.15);\n",
              "    fill: var(--button-hover-fill-color);\n",
              "  }\n",
              "\n",
              "  .colab-df-quickchart-complete:disabled,\n",
              "  .colab-df-quickchart-complete:disabled:hover {\n",
              "    background-color: var(--disabled-bg-color);\n",
              "    fill: var(--disabled-fill-color);\n",
              "    box-shadow: none;\n",
              "  }\n",
              "\n",
              "  .colab-df-spinner {\n",
              "    border: 2px solid var(--fill-color);\n",
              "    border-color: transparent;\n",
              "    border-bottom-color: var(--fill-color);\n",
              "    animation:\n",
              "      spin 1s steps(1) infinite;\n",
              "  }\n",
              "\n",
              "  @keyframes spin {\n",
              "    0% {\n",
              "      border-color: transparent;\n",
              "      border-bottom-color: var(--fill-color);\n",
              "      border-left-color: var(--fill-color);\n",
              "    }\n",
              "    20% {\n",
              "      border-color: transparent;\n",
              "      border-left-color: var(--fill-color);\n",
              "      border-top-color: var(--fill-color);\n",
              "    }\n",
              "    30% {\n",
              "      border-color: transparent;\n",
              "      border-left-color: var(--fill-color);\n",
              "      border-top-color: var(--fill-color);\n",
              "      border-right-color: var(--fill-color);\n",
              "    }\n",
              "    40% {\n",
              "      border-color: transparent;\n",
              "      border-right-color: var(--fill-color);\n",
              "      border-top-color: var(--fill-color);\n",
              "    }\n",
              "    60% {\n",
              "      border-color: transparent;\n",
              "      border-right-color: var(--fill-color);\n",
              "    }\n",
              "    80% {\n",
              "      border-color: transparent;\n",
              "      border-right-color: var(--fill-color);\n",
              "      border-bottom-color: var(--fill-color);\n",
              "    }\n",
              "    90% {\n",
              "      border-color: transparent;\n",
              "      border-bottom-color: var(--fill-color);\n",
              "    }\n",
              "  }\n",
              "</style>\n",
              "\n",
              "      <script>\n",
              "        async function quickchart(key) {\n",
              "          const quickchartButtonEl =\n",
              "            document.querySelector('#' + key + ' button');\n",
              "          quickchartButtonEl.disabled = true;  // To prevent multiple clicks.\n",
              "          quickchartButtonEl.classList.add('colab-df-spinner');\n",
              "          try {\n",
              "            const charts = await google.colab.kernel.invokeFunction(\n",
              "                'suggestCharts', [key], {});\n",
              "          } catch (error) {\n",
              "            console.error('Error during call to suggestCharts:', error);\n",
              "          }\n",
              "          quickchartButtonEl.classList.remove('colab-df-spinner');\n",
              "          quickchartButtonEl.classList.add('colab-df-quickchart-complete');\n",
              "        }\n",
              "        (() => {\n",
              "          let quickchartButtonEl =\n",
              "            document.querySelector('#df-70f7d7b9-7c8f-4d6d-86e0-0f0eb1504a9c button');\n",
              "          quickchartButtonEl.style.display =\n",
              "            google.colab.kernel.accessAllowed ? 'block' : 'none';\n",
              "        })();\n",
              "      </script>\n",
              "    </div>\n",
              "\n",
              "    </div>\n",
              "  </div>\n"
            ],
            "application/vnd.google.colaboratory.intrinsic+json": {
              "type": "dataframe",
              "variable_name": "df_raw",
              "summary": "{\n  \"name\": \"df_raw\",\n  \"rows\": 26709,\n  \"fields\": [\n    {\n      \"column\": \"article_link\",\n      \"properties\": {\n        \"dtype\": \"string\",\n        \"num_unique_values\": 26708,\n        \"samples\": [\n          \"https://www.theonion.com/isis-recruiter-excited-to-be-talking-to-popular-high-sc-1819579508\",\n          \"https://www.huffingtonpost.com/entry/jimmy-fallon-could-barely-keep-it-together-during-this-cardi-b-interview_us_5a3c01aae4b06d1621b2de98\",\n          \"https://www.huffingtonpost.com/entry/4-ways-to-support-farmtos_b_5906452.html\"\n        ],\n        \"semantic_type\": \"\",\n        \"description\": \"\"\n      }\n    },\n    {\n      \"column\": \"headline\",\n      \"properties\": {\n        \"dtype\": \"string\",\n        \"num_unique_values\": 26602,\n        \"samples\": [\n          \"departing employee not quite important enough for send-off\",\n          \"college student still managing to look like asshole in picture of village he helped build\",\n          \"fun sticker placed on child's ventilator\"\n        ],\n        \"semantic_type\": \"\",\n        \"description\": \"\"\n      }\n    },\n    {\n      \"column\": \"is_sarcastic\",\n      \"properties\": {\n        \"dtype\": \"number\",\n        \"std\": 0,\n        \"min\": 0,\n        \"max\": 1,\n        \"num_unique_values\": 2,\n        \"samples\": [\n          1,\n          0\n        ],\n        \"semantic_type\": \"\",\n        \"description\": \"\"\n      }\n    }\n  ]\n}"
            }
          },
          "metadata": {},
          "execution_count": 31
        }
      ],
      "source": [
        "df_raw.head()"
      ]
    },
    {
      "cell_type": "markdown",
      "metadata": {
        "id": "HAdXgKdGMxqO"
      },
      "source": [
        "### Preprocessing Function"
      ]
    },
    {
      "cell_type": "code",
      "execution_count": 32,
      "metadata": {
        "colab": {
          "base_uri": "https://localhost:8080/"
        },
        "id": "3sm___4sMxqP",
        "outputId": "8113d7b8-0af5-40bb-bf34-7592b3d81757"
      },
      "outputs": [
        {
          "output_type": "stream",
          "name": "stderr",
          "text": [
            "[nltk_data] Downloading package punkt to /root/nltk_data...\n",
            "[nltk_data]   Package punkt is already up-to-date!\n",
            "[nltk_data] Downloading package stopwords to /root/nltk_data...\n",
            "[nltk_data]   Package stopwords is already up-to-date!\n",
            "[nltk_data] Downloading package wordnet to /root/nltk_data...\n",
            "[nltk_data]   Package wordnet is already up-to-date!\n"
          ]
        },
        {
          "output_type": "execute_result",
          "data": {
            "text/plain": [
              "True"
            ]
          },
          "metadata": {},
          "execution_count": 32
        }
      ],
      "source": [
        "nltk.download('punkt')\n",
        "nltk.download('stopwords')\n",
        "nltk.download('wordnet')"
      ]
    },
    {
      "cell_type": "code",
      "execution_count": 33,
      "metadata": {
        "id": "r3BSJFGaMxqQ"
      },
      "outputs": [],
      "source": [
        "def preprocess_text(text):\n",
        "\n",
        "    text = text.str.lower()\n",
        "\n",
        "    # this remove links and twitter handels, and emails etc\n",
        "    text = text.str.replace(r'http\\S+|www\\S+|https\\S+', '', regex=True)\n",
        "    text = text.str.replace(r'\\S+@\\S+', '', regex=True)\n",
        "    text = text.str.replace(r'@\\w+', '', regex=True)\n",
        "\n",
        "    text = text.str.replace(f'[{string.punctuation}]', '', regex=True)\n",
        "\n",
        "    text = text.str.replace(r'\\d+', '', regex=True)\n",
        "\n",
        "    text = text.str.replace(r'\\s+', ' ', regex=True).str.strip()\n",
        "\n",
        "    text_tokens = text.apply(nltk.word_tokenize)\n",
        "\n",
        "    stop_words = set(stopwords.words('english'))\n",
        "    text_tokens = text_tokens.apply(lambda tokens: [w for w in tokens if w not in stop_words])\n",
        "\n",
        "    lemmatizer = WordNetLemmatizer()\n",
        "    text_tokens = text_tokens.apply(lambda tokens: [lemmatizer.lemmatize(w) for w in tokens])\n",
        "\n",
        "    processed_text = text_tokens.apply(lambda tokens: ' '.join(tokens))\n",
        "\n",
        "    return processed_text\n"
      ]
    },
    {
      "cell_type": "code",
      "execution_count": 34,
      "metadata": {
        "id": "MQXAvT2BMxqU"
      },
      "outputs": [],
      "source": [
        "df = df_raw.copy()"
      ]
    },
    {
      "source": [
        "import nltk\n",
        "nltk.download('punkt')\n",
        "nltk.download('stopwords')\n",
        "nltk.download('wordnet')\n",
        "# Download the punkt_tab resource\n",
        "nltk.download('punkt_tab')"
      ],
      "cell_type": "code",
      "metadata": {
        "colab": {
          "base_uri": "https://localhost:8080/"
        },
        "id": "gCGamwC-ZYw5",
        "outputId": "62807865-429f-46b5-80f0-e29374e901aa"
      },
      "execution_count": 20,
      "outputs": [
        {
          "output_type": "stream",
          "name": "stderr",
          "text": [
            "[nltk_data] Downloading package punkt to /root/nltk_data...\n",
            "[nltk_data]   Package punkt is already up-to-date!\n",
            "[nltk_data] Downloading package stopwords to /root/nltk_data...\n",
            "[nltk_data]   Package stopwords is already up-to-date!\n",
            "[nltk_data] Downloading package wordnet to /root/nltk_data...\n",
            "[nltk_data]   Package wordnet is already up-to-date!\n",
            "[nltk_data] Downloading package punkt_tab to /root/nltk_data...\n",
            "[nltk_data]   Unzipping tokenizers/punkt_tab.zip.\n"
          ]
        },
        {
          "output_type": "execute_result",
          "data": {
            "text/plain": [
              "True"
            ]
          },
          "metadata": {},
          "execution_count": 20
        }
      ]
    },
    {
      "cell_type": "code",
      "execution_count": 21,
      "metadata": {
        "id": "MGWr-YS9Mxqe"
      },
      "outputs": [],
      "source": [
        "df[\"title_preprocessed\"] = preprocess_text(df[\"title\"])\n",
        "df[\"text_preprocessed\"] = preprocess_text(df[\"text\"])"
      ]
    },
    {
      "cell_type": "code",
      "execution_count": 22,
      "metadata": {
        "id": "bK0lz2V0Mxqf"
      },
      "outputs": [],
      "source": [
        "df[\"features\"] = df[\"title_preprocessed\"] + \" \" + df[\"text_preprocessed\"]"
      ]
    },
    {
      "cell_type": "code",
      "source": [
        "df[\"headline_clean\"] = preprocess_text(df[\"headline\"])"
      ],
      "metadata": {
        "id": "6psC7Q2JeOjB"
      },
      "execution_count": 35,
      "outputs": []
    },
    {
      "cell_type": "markdown",
      "metadata": {
        "id": "VHp3zUU9Mxqk"
      },
      "source": [
        "### Train - Test Split"
      ]
    },
    {
      "cell_type": "code",
      "execution_count": 23,
      "metadata": {
        "id": "V6vhhBw6Mxqn"
      },
      "outputs": [],
      "source": [
        "X = df[\"features\"]\n",
        "y = df[\"label\"]"
      ]
    },
    {
      "cell_type": "code",
      "source": [
        "X = df[\"headline_clean\"]\n",
        "y = df[\"is_sarcastic\"]"
      ],
      "metadata": {
        "id": "Om6UNynoff5v"
      },
      "execution_count": 36,
      "outputs": []
    },
    {
      "cell_type": "code",
      "execution_count": 37,
      "metadata": {
        "id": "7SqYmdN1Mxqs"
      },
      "outputs": [],
      "source": [
        "X_train, X_temp, y_train, y_temp = train_test_split(X, y, test_size=0.30, stratify=y, random_state=7)\n",
        "X_val, X_test, y_val, y_test = train_test_split(X_temp, y_temp, test_size=0.50, stratify=y_temp, random_state=7)\n",
        "\n",
        "\n",
        "\n",
        "X_train = X_train.reset_index(drop=True)\n",
        "X_val = X_val.reset_index(drop=True)\n",
        "X_test = X_test.reset_index(drop=True)\n",
        "y_train = y_train.reset_index(drop=True)\n",
        "y_val = y_val.reset_index(drop=True)\n",
        "y_test = y_test.reset_index(drop=True)"
      ]
    },
    {
      "cell_type": "code",
      "execution_count": 38,
      "metadata": {
        "colab": {
          "base_uri": "https://localhost:8080/"
        },
        "id": "MgL7ftZpMxqs",
        "outputId": "9da9a831-375c-4754-c397-28045e53f9f9"
      },
      "outputs": [
        {
          "output_type": "stream",
          "name": "stdout",
          "text": [
            "(18696,)\n",
            "(4006,)\n",
            "(4007,)\n"
          ]
        }
      ],
      "source": [
        "print(X_train.shape)\n",
        "print(X_val.shape)\n",
        "print(X_test.shape)"
      ]
    },
    {
      "cell_type": "code",
      "source": [
        "# ===== NEW: Shuffled Labels Experiment =====\n",
        "print(\"\\n=== Shuffled Labels Experiment ===\")\n",
        "\n",
        "# Shuffle the training labels to destroy any real relationship\n",
        "y_train_shuffled = y_train.sample(frac=1.0, random_state=42).reset_index(drop=True)\n",
        "\n",
        "# Sanity check: make sure labels are actually shuffled\n",
        "assert not all(y_train_shuffled == y_train), \"Shuffling failed: labels match original\"\n",
        "\n",
        "# Create pipeline with TF-IDF + Logistic Regression\n",
        "shuffled_pipeline = make_pipeline(\n",
        "    TfidfVectorizer(stop_words='english', ngram_range=(1, 1)),\n",
        "    LogisticRegression(penalty='l2', C=0.1, max_iter=1000)\n",
        ")\n",
        "\n",
        "print(\"Fitting model on shuffled labels...\")\n",
        "shuffled_pipeline.fit(X_train, y_train_shuffled)\n",
        "\n",
        "print(\"Predicting on validation set with correct labels...\")\n",
        "y_val_pred_shuffled = shuffled_pipeline.predict(X_val)\n",
        "\n",
        "print(\"Evaluating model trained on shuffled labels:\")\n",
        "def evaluate_models(y_true, y_pred_dict, label=None):\n",
        "    metrics = {\n",
        "        'Model': [],\n",
        "        'Accuracy': [],\n",
        "        'Precision': [],\n",
        "        'Recall': [],\n",
        "        'F1-score': []\n",
        "    }\n",
        "    for model_name, y_pred in y_pred_dict.items():\n",
        "        print(f\"\\n===== {model_name}: {label if label else ''} =====\")\n",
        "        print(\"Classification Report:\")\n",
        "        print(classification_report(y_true, y_pred))\n",
        "\n",
        "        metrics['Model'].append(model_name)\n",
        "        metrics['Accuracy'].append(accuracy_score(y_true, y_pred))\n",
        "\n",
        "        unique_labels = np.unique(y_true)\n",
        "        if len(unique_labels) == 2:\n",
        "            metrics['Precision'].append(precision_score(y_true, y_pred, average='binary', pos_label=unique_labels[1]))\n",
        "            metrics['Recall'].append(recall_score(y_true, y_pred, average='binary', pos_label=unique_labels[1]))\n",
        "            metrics['F1-score'].append(f1_score(y_true, y_pred, average='binary', pos_label=unique_labels[1]))\n",
        "        else:\n",
        "            metrics['Precision'].append(precision_score(y_true, y_pred, average='weighted'))\n",
        "            metrics['Recall'].append(recall_score(y_true, y_pred, average='weighted'))\n",
        "            metrics['F1-score'].append(f1_score(y_true, y_pred, average='weighted'))\n",
        "\n",
        "    return pd.DataFrame(metrics)\n",
        "\n",
        "evaluate_models(y_val, {\"Shuffled Labels Model\": y_val_pred_shuffled}, label=\"Validation Set\")\n",
        "# ===== END NEW: Shuffled Labels Experiment ====="
      ],
      "metadata": {
        "colab": {
          "base_uri": "https://localhost:8080/",
          "height": 388
        },
        "id": "ZoZcjAtSYqZ8",
        "outputId": "586218ec-983d-4ded-a218-92b554a64822"
      },
      "execution_count": 39,
      "outputs": [
        {
          "output_type": "stream",
          "name": "stdout",
          "text": [
            "\n",
            "=== Shuffled Labels Experiment ===\n",
            "Fitting model on shuffled labels...\n",
            "Predicting on validation set with correct labels...\n",
            "Evaluating model trained on shuffled labels:\n",
            "\n",
            "===== Shuffled Labels Model: Validation Set =====\n",
            "Classification Report:\n",
            "              precision    recall  f1-score   support\n",
            "\n",
            "           0       0.56      1.00      0.72      2248\n",
            "           1       0.43      0.00      0.00      1758\n",
            "\n",
            "    accuracy                           0.56      4006\n",
            "   macro avg       0.49      0.50      0.36      4006\n",
            "weighted avg       0.50      0.56      0.40      4006\n",
            "\n"
          ]
        },
        {
          "output_type": "execute_result",
          "data": {
            "text/plain": [
              "                   Model  Accuracy  Precision    Recall  F1-score\n",
              "0  Shuffled Labels Model  0.560909   0.428571  0.001706  0.003399"
            ],
            "text/html": [
              "\n",
              "  <div id=\"df-3146a64b-c3ba-4130-9d2a-25abb0a0ac14\" class=\"colab-df-container\">\n",
              "    <div>\n",
              "<style scoped>\n",
              "    .dataframe tbody tr th:only-of-type {\n",
              "        vertical-align: middle;\n",
              "    }\n",
              "\n",
              "    .dataframe tbody tr th {\n",
              "        vertical-align: top;\n",
              "    }\n",
              "\n",
              "    .dataframe thead th {\n",
              "        text-align: right;\n",
              "    }\n",
              "</style>\n",
              "<table border=\"1\" class=\"dataframe\">\n",
              "  <thead>\n",
              "    <tr style=\"text-align: right;\">\n",
              "      <th></th>\n",
              "      <th>Model</th>\n",
              "      <th>Accuracy</th>\n",
              "      <th>Precision</th>\n",
              "      <th>Recall</th>\n",
              "      <th>F1-score</th>\n",
              "    </tr>\n",
              "  </thead>\n",
              "  <tbody>\n",
              "    <tr>\n",
              "      <th>0</th>\n",
              "      <td>Shuffled Labels Model</td>\n",
              "      <td>0.560909</td>\n",
              "      <td>0.428571</td>\n",
              "      <td>0.001706</td>\n",
              "      <td>0.003399</td>\n",
              "    </tr>\n",
              "  </tbody>\n",
              "</table>\n",
              "</div>\n",
              "    <div class=\"colab-df-buttons\">\n",
              "\n",
              "  <div class=\"colab-df-container\">\n",
              "    <button class=\"colab-df-convert\" onclick=\"convertToInteractive('df-3146a64b-c3ba-4130-9d2a-25abb0a0ac14')\"\n",
              "            title=\"Convert this dataframe to an interactive table.\"\n",
              "            style=\"display:none;\">\n",
              "\n",
              "  <svg xmlns=\"http://www.w3.org/2000/svg\" height=\"24px\" viewBox=\"0 -960 960 960\">\n",
              "    <path d=\"M120-120v-720h720v720H120Zm60-500h600v-160H180v160Zm220 220h160v-160H400v160Zm0 220h160v-160H400v160ZM180-400h160v-160H180v160Zm440 0h160v-160H620v160ZM180-180h160v-160H180v160Zm440 0h160v-160H620v160Z\"/>\n",
              "  </svg>\n",
              "    </button>\n",
              "\n",
              "  <style>\n",
              "    .colab-df-container {\n",
              "      display:flex;\n",
              "      gap: 12px;\n",
              "    }\n",
              "\n",
              "    .colab-df-convert {\n",
              "      background-color: #E8F0FE;\n",
              "      border: none;\n",
              "      border-radius: 50%;\n",
              "      cursor: pointer;\n",
              "      display: none;\n",
              "      fill: #1967D2;\n",
              "      height: 32px;\n",
              "      padding: 0 0 0 0;\n",
              "      width: 32px;\n",
              "    }\n",
              "\n",
              "    .colab-df-convert:hover {\n",
              "      background-color: #E2EBFA;\n",
              "      box-shadow: 0px 1px 2px rgba(60, 64, 67, 0.3), 0px 1px 3px 1px rgba(60, 64, 67, 0.15);\n",
              "      fill: #174EA6;\n",
              "    }\n",
              "\n",
              "    .colab-df-buttons div {\n",
              "      margin-bottom: 4px;\n",
              "    }\n",
              "\n",
              "    [theme=dark] .colab-df-convert {\n",
              "      background-color: #3B4455;\n",
              "      fill: #D2E3FC;\n",
              "    }\n",
              "\n",
              "    [theme=dark] .colab-df-convert:hover {\n",
              "      background-color: #434B5C;\n",
              "      box-shadow: 0px 1px 3px 1px rgba(0, 0, 0, 0.15);\n",
              "      filter: drop-shadow(0px 1px 2px rgba(0, 0, 0, 0.3));\n",
              "      fill: #FFFFFF;\n",
              "    }\n",
              "  </style>\n",
              "\n",
              "    <script>\n",
              "      const buttonEl =\n",
              "        document.querySelector('#df-3146a64b-c3ba-4130-9d2a-25abb0a0ac14 button.colab-df-convert');\n",
              "      buttonEl.style.display =\n",
              "        google.colab.kernel.accessAllowed ? 'block' : 'none';\n",
              "\n",
              "      async function convertToInteractive(key) {\n",
              "        const element = document.querySelector('#df-3146a64b-c3ba-4130-9d2a-25abb0a0ac14');\n",
              "        const dataTable =\n",
              "          await google.colab.kernel.invokeFunction('convertToInteractive',\n",
              "                                                    [key], {});\n",
              "        if (!dataTable) return;\n",
              "\n",
              "        const docLinkHtml = 'Like what you see? Visit the ' +\n",
              "          '<a target=\"_blank\" href=https://colab.research.google.com/notebooks/data_table.ipynb>data table notebook</a>'\n",
              "          + ' to learn more about interactive tables.';\n",
              "        element.innerHTML = '';\n",
              "        dataTable['output_type'] = 'display_data';\n",
              "        await google.colab.output.renderOutput(dataTable, element);\n",
              "        const docLink = document.createElement('div');\n",
              "        docLink.innerHTML = docLinkHtml;\n",
              "        element.appendChild(docLink);\n",
              "      }\n",
              "    </script>\n",
              "  </div>\n",
              "\n",
              "\n",
              "    </div>\n",
              "  </div>\n"
            ],
            "application/vnd.google.colaboratory.intrinsic+json": {
              "type": "dataframe",
              "summary": "{\n  \"name\": \"# ===== END NEW: Shuffled Labels Experiment =====\",\n  \"rows\": 1,\n  \"fields\": [\n    {\n      \"column\": \"Model\",\n      \"properties\": {\n        \"dtype\": \"string\",\n        \"num_unique_values\": 1,\n        \"samples\": [\n          \"Shuffled Labels Model\"\n        ],\n        \"semantic_type\": \"\",\n        \"description\": \"\"\n      }\n    },\n    {\n      \"column\": \"Accuracy\",\n      \"properties\": {\n        \"dtype\": \"number\",\n        \"std\": null,\n        \"min\": 0.5609086370444334,\n        \"max\": 0.5609086370444334,\n        \"num_unique_values\": 1,\n        \"samples\": [\n          0.5609086370444334\n        ],\n        \"semantic_type\": \"\",\n        \"description\": \"\"\n      }\n    },\n    {\n      \"column\": \"Precision\",\n      \"properties\": {\n        \"dtype\": \"number\",\n        \"std\": null,\n        \"min\": 0.42857142857142855,\n        \"max\": 0.42857142857142855,\n        \"num_unique_values\": 1,\n        \"samples\": [\n          0.42857142857142855\n        ],\n        \"semantic_type\": \"\",\n        \"description\": \"\"\n      }\n    },\n    {\n      \"column\": \"Recall\",\n      \"properties\": {\n        \"dtype\": \"number\",\n        \"std\": null,\n        \"min\": 0.0017064846416382253,\n        \"max\": 0.0017064846416382253,\n        \"num_unique_values\": 1,\n        \"samples\": [\n          0.0017064846416382253\n        ],\n        \"semantic_type\": \"\",\n        \"description\": \"\"\n      }\n    },\n    {\n      \"column\": \"F1-score\",\n      \"properties\": {\n        \"dtype\": \"number\",\n        \"std\": null,\n        \"min\": 0.0033994334277620396,\n        \"max\": 0.0033994334277620396,\n        \"num_unique_values\": 1,\n        \"samples\": [\n          0.0033994334277620396\n        ],\n        \"semantic_type\": \"\",\n        \"description\": \"\"\n      }\n    }\n  ]\n}"
            }
          },
          "metadata": {},
          "execution_count": 39
        }
      ]
    },
    {
      "cell_type": "markdown",
      "metadata": {
        "id": "Vbno0YeBMxqu"
      },
      "source": [
        "## Model Fitting"
      ]
    },
    {
      "cell_type": "markdown",
      "metadata": {
        "id": "H9AaDyivMxqy"
      },
      "source": [
        "### Define functions for efficient model evaluation and fitting"
      ]
    },
    {
      "cell_type": "code",
      "execution_count": 40,
      "metadata": {
        "id": "Hw18uQ1eMxqy"
      },
      "outputs": [],
      "source": [
        "def evaluate_models(y_true, y_pred_dict, label=None):\n",
        "    \"\"\"\n",
        "    Evaluate and compare multiple models' predictions.\n",
        "    Parameters:\n",
        "    y_true : array-like\n",
        "        True labels.\n",
        "    y_pred_dict : dict\n",
        "        Dictionary where keys are model names and values are predicted labels.\n",
        "    label : str, optional\n",
        "        Description of the evaluation set (e.g., \"Validation Set\").\n",
        "    Returns:\n",
        "    pd.DataFrame containing accuracy, precision, recall, and F1 for each model.\n",
        "    \"\"\"\n",
        "\n",
        "    metrics = {\n",
        "        'Model': [],\n",
        "        'Accuracy': [],\n",
        "        'Precision': [],\n",
        "        'Recall': [],\n",
        "        'F1-score': []\n",
        "    }\n",
        "\n",
        "    for model_name, y_pred in y_pred_dict.items():\n",
        "        print(f\"\\n===== {model_name}: {label if label else ''} =====\")\n",
        "        print(\"Classification Report:\")\n",
        "        print(classification_report(y_true, y_pred))\n",
        "\n",
        "        metrics['Model'].append(model_name)\n",
        "        metrics['Accuracy'].append(accuracy_score(y_true, y_pred))\n",
        "\n",
        "        unique_labels = np.unique(y_true)\n",
        "        if len(unique_labels) == 2:\n",
        "            metrics['Precision'].append(precision_score(y_true, y_pred, average='binary', pos_label=unique_labels[1]))\n",
        "            metrics['Recall'].append(recall_score(y_true, y_pred, average='binary', pos_label=unique_labels[1]))\n",
        "            metrics['F1-score'].append(f1_score(y_true, y_pred, average='binary', pos_label=unique_labels[1]))\n",
        "        else:\n",
        "            metrics['Precision'].append(precision_score(y_true, y_pred, average='weighted'))\n",
        "            metrics['Recall'].append(recall_score(y_true, y_pred, average='weighted'))\n",
        "            metrics['F1-score'].append(f1_score(y_true, y_pred, average='weighted'))\n",
        "\n",
        "    return pd.DataFrame(metrics)\n"
      ]
    },
    {
      "cell_type": "code",
      "execution_count": 41,
      "metadata": {
        "id": "f3p_6o4TMxqz"
      },
      "outputs": [],
      "source": [
        "def fit_pipeline_predict_evaluate(\n",
        "    model_class,\n",
        "    model_name,\n",
        "    X_train,\n",
        "    y_train,\n",
        "    X_val,\n",
        "    y_val,\n",
        "    vectorizer_type='tfidf',\n",
        "    ngram_range=(1,1)\n",
        "):\n",
        "    if vectorizer_type == 'tfidf':\n",
        "        vectorizer = TfidfVectorizer(stop_words='english', ngram_range=ngram_range)\n",
        "    elif vectorizer_type == 'bow':\n",
        "        vectorizer = CountVectorizer(stop_words='english', ngram_range=ngram_range)\n",
        "    else:\n",
        "        raise ValueError(\"vectorizer_type must be either 'tfidf' or 'bow'\")\n",
        "\n",
        "    pipeline = make_pipeline(vectorizer, model_class)\n",
        "\n",
        "    print(f\"Fitting {model_name}...\")\n",
        "    pipeline.fit(X_train, y_train)\n",
        "\n",
        "    print(f\"Predicting on training set...\")\n",
        "    y_pred_train = pipeline.predict(X_train)\n",
        "\n",
        "    print(f\"Predicting on validation set...\")\n",
        "    y_pred_val = pipeline.predict(X_val)\n",
        "\n",
        "    print(f\"Evaluating {model_name} on training set...\")\n",
        "    train_metrics = evaluate_models(y_train, {model_name: y_pred_train}, label=\"Train Set\")\n",
        "\n",
        "    print(f\"Evaluating {model_name} on validation set...\")\n",
        "    val_metrics = evaluate_models(y_val, {model_name: y_pred_val}, label=\"Validation Set\")\n",
        "\n",
        "    train_metrics[\"Dataset\"] = \"Train\"\n",
        "    val_metrics[\"Dataset\"] = \"Validation\"\n",
        "\n",
        "    return pd.concat([train_metrics, val_metrics], ignore_index=True)"
      ]
    },
    {
      "cell_type": "markdown",
      "metadata": {
        "id": "ZmyVaEz7Mxq0"
      },
      "source": [
        "### Bag Of Words + Unigrams Vecotrizer"
      ]
    },
    {
      "cell_type": "code",
      "execution_count": 42,
      "metadata": {
        "colab": {
          "base_uri": "https://localhost:8080/"
        },
        "id": "ZEuNAt7dMxq7",
        "outputId": "66656153-5498-4c9b-89d1-83fd02ab4f11"
      },
      "outputs": [
        {
          "output_type": "stream",
          "name": "stdout",
          "text": [
            "Fitting Logistic Regression (BoW)...\n",
            "Predicting on training set...\n",
            "Predicting on validation set...\n",
            "Evaluating Logistic Regression (BoW) on training set...\n",
            "\n",
            "===== Logistic Regression (BoW): Train Set =====\n",
            "Classification Report:\n",
            "              precision    recall  f1-score   support\n",
            "\n",
            "           0       0.81      0.93      0.87     10489\n",
            "           1       0.89      0.73      0.80      8207\n",
            "\n",
            "    accuracy                           0.84     18696\n",
            "   macro avg       0.85      0.83      0.83     18696\n",
            "weighted avg       0.85      0.84      0.84     18696\n",
            "\n",
            "Evaluating Logistic Regression (BoW) on validation set...\n",
            "\n",
            "===== Logistic Regression (BoW): Validation Set =====\n",
            "Classification Report:\n",
            "              precision    recall  f1-score   support\n",
            "\n",
            "           0       0.75      0.89      0.81      2248\n",
            "           1       0.81      0.62      0.70      1758\n",
            "\n",
            "    accuracy                           0.77      4006\n",
            "   macro avg       0.78      0.75      0.76      4006\n",
            "weighted avg       0.77      0.77      0.76      4006\n",
            "\n",
            "                       Model  Accuracy  Precision    Recall  F1-score  \\\n",
            "0  Logistic Regression (BoW)  0.839431   0.886185  0.727671  0.799144   \n",
            "1  Logistic Regression (BoW)  0.768347   0.808321  0.618885  0.701031   \n",
            "\n",
            "      Dataset  \n",
            "0       Train  \n",
            "1  Validation  \n"
          ]
        }
      ],
      "source": [
        "logistic_bow_uni_metrics = fit_pipeline_predict_evaluate(\n",
        "    LogisticRegression(penalty='l2', C=0.1,max_iter=1000),\n",
        "    \"Logistic Regression (BoW)\",\n",
        "    X_train,\n",
        "    y_train,\n",
        "    X_val,\n",
        "    y_val,\n",
        "    vectorizer_type='bow',\n",
        "    ngram_range=(1, 1),\n",
        ")\n",
        "print(logistic_bow_uni_metrics)"
      ]
    },
    {
      "cell_type": "code",
      "execution_count": 43,
      "metadata": {
        "colab": {
          "base_uri": "https://localhost:8080/"
        },
        "id": "6yVdonqkMxq8",
        "outputId": "8acf854a-210a-403e-cd00-8cc0362c2fac"
      },
      "outputs": [
        {
          "output_type": "stream",
          "name": "stdout",
          "text": [
            "Fitting Multinomial Naive Bayes (BoW Unigrams)...\n",
            "Predicting on training set...\n",
            "Predicting on validation set...\n",
            "Evaluating Multinomial Naive Bayes (BoW Unigrams) on training set...\n",
            "\n",
            "===== Multinomial Naive Bayes (BoW Unigrams): Train Set =====\n",
            "Classification Report:\n",
            "              precision    recall  f1-score   support\n",
            "\n",
            "           0       0.87      0.93      0.90     10489\n",
            "           1       0.90      0.82      0.86      8207\n",
            "\n",
            "    accuracy                           0.88     18696\n",
            "   macro avg       0.89      0.88      0.88     18696\n",
            "weighted avg       0.89      0.88      0.88     18696\n",
            "\n",
            "Evaluating Multinomial Naive Bayes (BoW Unigrams) on validation set...\n",
            "\n",
            "===== Multinomial Naive Bayes (BoW Unigrams): Validation Set =====\n",
            "Classification Report:\n",
            "              precision    recall  f1-score   support\n",
            "\n",
            "           0       0.79      0.86      0.82      2248\n",
            "           1       0.80      0.70      0.75      1758\n",
            "\n",
            "    accuracy                           0.79      4006\n",
            "   macro avg       0.79      0.78      0.78      4006\n",
            "weighted avg       0.79      0.79      0.79      4006\n",
            "\n",
            "                                    Model  Accuracy  Precision    Recall  \\\n",
            "0  Multinomial Naive Bayes (BoW Unigrams)  0.884093   0.903959  0.823443   \n",
            "1  Multinomial Naive Bayes (BoW Unigrams)  0.791812   0.801173  0.699090   \n",
            "\n",
            "   F1-score     Dataset  \n",
            "0  0.861825       Train  \n",
            "1  0.746659  Validation  \n"
          ]
        }
      ],
      "source": [
        "bow_uni_nb_metrics = fit_pipeline_predict_evaluate(\n",
        "    model_class=MultinomialNB(alpha=3),\n",
        "    model_name=\"Multinomial Naive Bayes (BoW Unigrams)\",\n",
        "    X_train=X_train,\n",
        "    y_train=y_train,\n",
        "    X_val=X_val,\n",
        "    y_val=y_val,\n",
        "    vectorizer_type='bow',\n",
        "    ngram_range=(1, 1)\n",
        ")\n",
        "\n",
        "print(bow_uni_nb_metrics)"
      ]
    },
    {
      "cell_type": "code",
      "execution_count": 44,
      "metadata": {
        "colab": {
          "base_uri": "https://localhost:8080/"
        },
        "id": "H5829bDLMxq9",
        "outputId": "701285ed-f073-42dd-a0a0-8c589ff03802"
      },
      "outputs": [
        {
          "output_type": "stream",
          "name": "stdout",
          "text": [
            "Fitting Random Forest (BoW Unigrams)...\n",
            "Predicting on training set...\n",
            "Predicting on validation set...\n",
            "Evaluating Random Forest (BoW Unigrams) on training set...\n",
            "\n",
            "===== Random Forest (BoW Unigrams): Train Set =====\n",
            "Classification Report:\n",
            "              precision    recall  f1-score   support\n",
            "\n",
            "           0       0.70      0.94      0.80     10489\n",
            "           1       0.86      0.49      0.62      8207\n",
            "\n",
            "    accuracy                           0.74     18696\n",
            "   macro avg       0.78      0.71      0.71     18696\n",
            "weighted avg       0.77      0.74      0.72     18696\n",
            "\n",
            "Evaluating Random Forest (BoW Unigrams) on validation set...\n",
            "\n",
            "===== Random Forest (BoW Unigrams): Validation Set =====\n",
            "Classification Report:\n",
            "              precision    recall  f1-score   support\n",
            "\n",
            "           0       0.68      0.93      0.79      2248\n",
            "           1       0.84      0.45      0.58      1758\n",
            "\n",
            "    accuracy                           0.72      4006\n",
            "   macro avg       0.76      0.69      0.69      4006\n",
            "weighted avg       0.75      0.72      0.70      4006\n",
            "\n",
            "                          Model  Accuracy  Precision    Recall  F1-score  \\\n",
            "0  Random Forest (BoW Unigrams)  0.741228   0.860784  0.489704  0.624262   \n",
            "1  Random Forest (BoW Unigrams)  0.719670   0.835269  0.449943  0.584843   \n",
            "\n",
            "      Dataset  \n",
            "0       Train  \n",
            "1  Validation  \n"
          ]
        }
      ],
      "source": [
        "bow_uni_rf_metrics = fit_pipeline_predict_evaluate(\n",
        "    model_class=RandomForestClassifier(\n",
        "    n_estimators=100,\n",
        "    max_depth=120,\n",
        "    min_samples_leaf=5,\n",
        "    max_features='sqrt',\n",
        "    random_state=7),\n",
        "    model_name=\"Random Forest (BoW Unigrams)\",\n",
        "    X_train=X_train,\n",
        "    y_train=y_train,\n",
        "    X_val=X_val,\n",
        "    y_val=y_val,\n",
        "    vectorizer_type='bow',\n",
        "    ngram_range=(1, 1)\n",
        ")\n",
        "\n",
        "print(bow_uni_rf_metrics)"
      ]
    },
    {
      "cell_type": "code",
      "execution_count": 45,
      "metadata": {
        "colab": {
          "base_uri": "https://localhost:8080/"
        },
        "id": "IdyJGbp6MxrA",
        "outputId": "be4754f1-9abc-475b-ee6e-1b2f9a3b2b6c"
      },
      "outputs": [
        {
          "output_type": "stream",
          "name": "stdout",
          "text": [
            "Fitting MLP...\n",
            "Predicting on training set...\n",
            "Predicting on validation set...\n",
            "Evaluating MLP on training set...\n",
            "\n",
            "===== MLP: Train Set =====\n",
            "Classification Report:\n",
            "              precision    recall  f1-score   support\n",
            "\n",
            "           0       0.91      0.95      0.93     10489\n",
            "           1       0.94      0.88      0.91      8207\n",
            "\n",
            "    accuracy                           0.92     18696\n",
            "   macro avg       0.92      0.92      0.92     18696\n",
            "weighted avg       0.92      0.92      0.92     18696\n",
            "\n",
            "Evaluating MLP on validation set...\n",
            "\n",
            "===== MLP: Validation Set =====\n",
            "Classification Report:\n",
            "              precision    recall  f1-score   support\n",
            "\n",
            "           0       0.80      0.85      0.82      2248\n",
            "           1       0.79      0.73      0.76      1758\n",
            "\n",
            "    accuracy                           0.80      4006\n",
            "   macro avg       0.79      0.79      0.79      4006\n",
            "weighted avg       0.79      0.80      0.79      4006\n",
            "\n",
            "  Model  Accuracy  Precision    Recall  F1-score     Dataset\n",
            "0   MLP  0.922657   0.935912  0.884367  0.909410       Train\n",
            "1   MLP  0.795057   0.788663  0.728100  0.757172  Validation\n"
          ]
        }
      ],
      "source": [
        "bow_uni_mlp_metrics = fit_pipeline_predict_evaluate(\n",
        "    model_class=MLPClassifier(\n",
        "    hidden_layer_sizes=(32,),\n",
        "    activation='relu',\n",
        "    solver='adam',\n",
        "    alpha=0.001,\n",
        "    batch_size=64,\n",
        "    learning_rate='adaptive',\n",
        "    max_iter=100,\n",
        "    early_stopping=True,\n",
        "    random_state=42\n",
        "),\n",
        "    model_name=\"MLP\",\n",
        "    X_train=X_train,\n",
        "    y_train=y_train,\n",
        "    X_val=X_val,\n",
        "    y_val=y_val,\n",
        "    vectorizer_type='bow',\n",
        "    ngram_range=(1, 1)\n",
        ")\n",
        "print(bow_uni_mlp_metrics)"
      ]
    },
    {
      "cell_type": "markdown",
      "metadata": {
        "id": "jzva3_H3MxrC"
      },
      "source": [
        "### Bag of Words + Bigrams Vecotrizer:"
      ]
    },
    {
      "cell_type": "code",
      "execution_count": 46,
      "metadata": {
        "colab": {
          "base_uri": "https://localhost:8080/"
        },
        "id": "60vqQymCMxrD",
        "outputId": "cff9e0ac-8abe-4d2a-d396-f060f86e0dfc"
      },
      "outputs": [
        {
          "output_type": "stream",
          "name": "stdout",
          "text": [
            "Fitting Logistic Regression (BoW + Bigrams)...\n",
            "Predicting on training set...\n",
            "Predicting on validation set...\n",
            "Evaluating Logistic Regression (BoW + Bigrams) on training set...\n",
            "\n",
            "===== Logistic Regression (BoW + Bigrams): Train Set =====\n",
            "Classification Report:\n",
            "              precision    recall  f1-score   support\n",
            "\n",
            "           0       0.82      0.95      0.88     10489\n",
            "           1       0.92      0.73      0.81      8207\n",
            "\n",
            "    accuracy                           0.85     18696\n",
            "   macro avg       0.87      0.84      0.85     18696\n",
            "weighted avg       0.86      0.85      0.85     18696\n",
            "\n",
            "Evaluating Logistic Regression (BoW + Bigrams) on validation set...\n",
            "\n",
            "===== Logistic Regression (BoW + Bigrams): Validation Set =====\n",
            "Classification Report:\n",
            "              precision    recall  f1-score   support\n",
            "\n",
            "           0       0.72      0.91      0.81      2248\n",
            "           1       0.83      0.56      0.67      1758\n",
            "\n",
            "    accuracy                           0.76      4006\n",
            "   macro avg       0.78      0.73      0.74      4006\n",
            "weighted avg       0.77      0.76      0.75      4006\n",
            "\n",
            "                                 Model  Accuracy  Precision    Recall  \\\n",
            "0  Logistic Regression (BoW + Bigrams)  0.853659   0.922602  0.727671   \n",
            "1  Logistic Regression (BoW + Bigrams)  0.755866   0.832765  0.555176   \n",
            "\n",
            "   F1-score     Dataset  \n",
            "0  0.813624       Train  \n",
            "1  0.666212  Validation  \n"
          ]
        }
      ],
      "source": [
        "logistic_bow_bigrams_metrics = fit_pipeline_predict_evaluate(\n",
        "    LogisticRegression(penalty='l2', C=0.05,max_iter=1000),\n",
        "    \"Logistic Regression (BoW + Bigrams)\",\n",
        "    X_train,\n",
        "    y_train,\n",
        "    X_val,\n",
        "    y_val,\n",
        "    vectorizer_type='bow',\n",
        "    ngram_range=(1, 2)\n",
        ")\n",
        "print(logistic_bow_bigrams_metrics)"
      ]
    },
    {
      "cell_type": "code",
      "execution_count": 47,
      "metadata": {
        "colab": {
          "base_uri": "https://localhost:8080/"
        },
        "id": "TvU1uxXzMxrI",
        "outputId": "954fb72a-d12f-44ff-949e-c57283e20aea"
      },
      "outputs": [
        {
          "output_type": "stream",
          "name": "stdout",
          "text": [
            "Fitting Multinomial Naive Bayes (BoW Bigrams)...\n",
            "Predicting on training set...\n",
            "Predicting on validation set...\n",
            "Evaluating Multinomial Naive Bayes (BoW Bigrams) on training set...\n",
            "\n",
            "===== Multinomial Naive Bayes (BoW Bigrams): Train Set =====\n",
            "Classification Report:\n",
            "              precision    recall  f1-score   support\n",
            "\n",
            "           0       0.87      0.97      0.92     10489\n",
            "           1       0.96      0.81      0.88      8207\n",
            "\n",
            "    accuracy                           0.90     18696\n",
            "   macro avg       0.91      0.89      0.90     18696\n",
            "weighted avg       0.91      0.90      0.90     18696\n",
            "\n",
            "Evaluating Multinomial Naive Bayes (BoW Bigrams) on validation set...\n",
            "\n",
            "===== Multinomial Naive Bayes (BoW Bigrams): Validation Set =====\n",
            "Classification Report:\n",
            "              precision    recall  f1-score   support\n",
            "\n",
            "           0       0.74      0.92      0.82      2248\n",
            "           1       0.86      0.59      0.70      1758\n",
            "\n",
            "    accuracy                           0.78      4006\n",
            "   macro avg       0.80      0.76      0.76      4006\n",
            "weighted avg       0.79      0.78      0.77      4006\n",
            "\n",
            "                                   Model  Accuracy  Precision    Recall  \\\n",
            "0  Multinomial Naive Bayes (BoW Bigrams)  0.903295   0.959764  0.813817   \n",
            "1  Multinomial Naive Bayes (BoW Bigrams)  0.776835   0.856436  0.590444   \n",
            "\n",
            "   F1-score     Dataset  \n",
            "0  0.880786       Train  \n",
            "1  0.698990  Validation  \n"
          ]
        }
      ],
      "source": [
        "bow_bi_nb_metrics = fit_pipeline_predict_evaluate(\n",
        "    model_class=MultinomialNB(alpha=10),\n",
        "    model_name=\"Multinomial Naive Bayes (BoW Bigrams)\",\n",
        "    X_train=X_train,\n",
        "    y_train=y_train,\n",
        "    X_val=X_val,\n",
        "    y_val=y_val,\n",
        "    vectorizer_type='bow',\n",
        "    ngram_range=(1, 2)\n",
        ")\n",
        "\n",
        "print(bow_bi_nb_metrics)"
      ]
    },
    {
      "cell_type": "code",
      "execution_count": 48,
      "metadata": {
        "colab": {
          "base_uri": "https://localhost:8080/"
        },
        "id": "q-RcBk2mMxrJ",
        "outputId": "164b5ad5-9910-418c-f7cc-08022d492282"
      },
      "outputs": [
        {
          "output_type": "stream",
          "name": "stdout",
          "text": [
            "Fitting Random Forest (BoW Bigrams)...\n",
            "Predicting on training set...\n",
            "Predicting on validation set...\n",
            "Evaluating Random Forest (BoW Bigrams) on training set...\n",
            "\n",
            "===== Random Forest (BoW Bigrams): Train Set =====\n",
            "Classification Report:\n",
            "              precision    recall  f1-score   support\n",
            "\n",
            "           0       0.69      0.96      0.81     10489\n",
            "           1       0.91      0.45      0.61      8207\n",
            "\n",
            "    accuracy                           0.74     18696\n",
            "   macro avg       0.80      0.71      0.71     18696\n",
            "weighted avg       0.79      0.74      0.72     18696\n",
            "\n",
            "Evaluating Random Forest (BoW Bigrams) on validation set...\n",
            "\n",
            "===== Random Forest (BoW Bigrams): Validation Set =====\n",
            "Classification Report:\n",
            "              precision    recall  f1-score   support\n",
            "\n",
            "           0       0.68      0.95      0.79      2248\n",
            "           1       0.87      0.42      0.56      1758\n",
            "\n",
            "    accuracy                           0.72      4006\n",
            "   macro avg       0.78      0.68      0.68      4006\n",
            "weighted avg       0.76      0.72      0.69      4006\n",
            "\n",
            "                         Model  Accuracy  Precision    Recall  F1-score  \\\n",
            "0  Random Forest (BoW Bigrams)  0.739944   0.907629  0.453759  0.605037   \n",
            "1  Random Forest (BoW Bigrams)  0.717673   0.874552  0.416382  0.564162   \n",
            "\n",
            "      Dataset  \n",
            "0       Train  \n",
            "1  Validation  \n"
          ]
        }
      ],
      "source": [
        "bow_bi_rf_metrics = fit_pipeline_predict_evaluate(\n",
        "    model_class=RandomForestClassifier(\n",
        "    n_estimators=100,\n",
        "    max_depth=120,\n",
        "    min_samples_leaf=5,\n",
        "    max_features='sqrt',\n",
        "    random_state=7),\n",
        "    model_name=\"Random Forest (BoW Bigrams)\",\n",
        "    X_train=X_train,\n",
        "    y_train=y_train,\n",
        "    X_val=X_val,\n",
        "    y_val=y_val,\n",
        "    vectorizer_type='bow',\n",
        "    ngram_range=(1, 2)\n",
        ")\n",
        "\n",
        "print(bow_bi_rf_metrics)"
      ]
    },
    {
      "cell_type": "code",
      "execution_count": 49,
      "metadata": {
        "colab": {
          "base_uri": "https://localhost:8080/"
        },
        "id": "zhz5vhzPMxrS",
        "outputId": "05e6752b-8926-435d-b292-94e20dcf3d93"
      },
      "outputs": [
        {
          "output_type": "stream",
          "name": "stdout",
          "text": [
            "Fitting MLP...\n",
            "Predicting on training set...\n",
            "Predicting on validation set...\n",
            "Evaluating MLP on training set...\n",
            "\n",
            "===== MLP: Train Set =====\n",
            "Classification Report:\n",
            "              precision    recall  f1-score   support\n",
            "\n",
            "           0       0.98      0.98      0.98     10489\n",
            "           1       0.98      0.97      0.97      8207\n",
            "\n",
            "    accuracy                           0.98     18696\n",
            "   macro avg       0.98      0.98      0.98     18696\n",
            "weighted avg       0.98      0.98      0.98     18696\n",
            "\n",
            "Evaluating MLP on validation set...\n",
            "\n",
            "===== MLP: Validation Set =====\n",
            "Classification Report:\n",
            "              precision    recall  f1-score   support\n",
            "\n",
            "           0       0.81      0.85      0.83      2248\n",
            "           1       0.79      0.75      0.77      1758\n",
            "\n",
            "    accuracy                           0.80      4006\n",
            "   macro avg       0.80      0.80      0.80      4006\n",
            "weighted avg       0.80      0.80      0.80      4006\n",
            "\n",
            "  Model  Accuracy  Precision    Recall  F1-score     Dataset\n",
            "0   MLP  0.978070   0.978872  0.971000  0.974920       Train\n",
            "1   MLP  0.802047   0.791541  0.745165  0.767653  Validation\n"
          ]
        }
      ],
      "source": [
        "bow_bi_mlp_metrics = fit_pipeline_predict_evaluate(\n",
        "    model_class=MLPClassifier(\n",
        "    hidden_layer_sizes=(32,),\n",
        "    activation='relu',\n",
        "    solver='adam',\n",
        "    alpha=0.001,\n",
        "    batch_size=64,\n",
        "    learning_rate='adaptive',\n",
        "    max_iter=100,\n",
        "    early_stopping=True,\n",
        "    random_state=42\n",
        "),\n",
        "    model_name=\"MLP\",\n",
        "    X_train=X_train,\n",
        "    y_train=y_train,\n",
        "    X_val=X_val,\n",
        "    y_val=y_val,\n",
        "    vectorizer_type='bow',\n",
        "    ngram_range=(1, 2)\n",
        ")\n",
        "print(bow_bi_mlp_metrics)"
      ]
    },
    {
      "cell_type": "markdown",
      "metadata": {
        "id": "Q1acenPVMxrT"
      },
      "source": [
        "### TF-IDF Vectorizer:"
      ]
    },
    {
      "cell_type": "code",
      "execution_count": 50,
      "metadata": {
        "colab": {
          "base_uri": "https://localhost:8080/"
        },
        "id": "C3UDEAUTMxrU",
        "outputId": "aa84a722-1528-47a8-fd0a-78f7ccfa7e7e"
      },
      "outputs": [
        {
          "output_type": "stream",
          "name": "stdout",
          "text": [
            "Fitting Logistic Regression...\n",
            "Predicting on training set...\n",
            "Predicting on validation set...\n",
            "Evaluating Logistic Regression on training set...\n",
            "\n",
            "===== Logistic Regression: Train Set =====\n",
            "Classification Report:\n",
            "              precision    recall  f1-score   support\n",
            "\n",
            "           0       0.68      0.97      0.80     10489\n",
            "           1       0.91      0.42      0.58      8207\n",
            "\n",
            "    accuracy                           0.73     18696\n",
            "   macro avg       0.79      0.70      0.69     18696\n",
            "weighted avg       0.78      0.73      0.70     18696\n",
            "\n",
            "Evaluating Logistic Regression on validation set...\n",
            "\n",
            "===== Logistic Regression: Validation Set =====\n",
            "Classification Report:\n",
            "              precision    recall  f1-score   support\n",
            "\n",
            "           0       0.67      0.95      0.78      2248\n",
            "           1       0.86      0.40      0.55      1758\n",
            "\n",
            "    accuracy                           0.71      4006\n",
            "   macro avg       0.77      0.67      0.67      4006\n",
            "weighted avg       0.75      0.71      0.68      4006\n",
            "\n",
            "                 Model  Accuracy  Precision    Recall  F1-score     Dataset\n",
            "0  Logistic Regression  0.728177   0.906583  0.424516  0.578257       Train\n",
            "1  Logistic Regression  0.707938   0.861179  0.398749  0.545101  Validation\n"
          ]
        }
      ],
      "source": [
        "logistic_tfidf_metrics = fit_pipeline_predict_evaluate(\n",
        "    LogisticRegression(penalty='l2', C=0.1, max_iter=1000),\n",
        "    \"Logistic Regression\",\n",
        "    X_train,\n",
        "    y_train,\n",
        "    X_val,\n",
        "    y_val,\n",
        "    vectorizer_type='tfidf',\n",
        "    ngram_range=(1, 1)\n",
        ")\n",
        "print(logistic_tfidf_metrics)"
      ]
    },
    {
      "cell_type": "code",
      "execution_count": null,
      "metadata": {
        "id": "co27oZPIMxrU",
        "outputId": "562077c7-83ab-4799-8ffd-8b970e69b344"
      },
      "outputs": [
        {
          "name": "stdout",
          "output_type": "stream",
          "text": [
            "Fitting Multinomial Naive Bayes (TF-IDF Unigrams)...\n",
            "Predicting on training set...\n",
            "Predicting on validation set...\n",
            "Evaluating Multinomial Naive Bayes (TF-IDF Unigrams) on training set...\n",
            "\n",
            "===== Multinomial Naive Bayes (TF-IDF Unigrams): Train Set =====\n",
            "Classification Report:\n",
            "              precision    recall  f1-score   support\n",
            "\n",
            "           0       0.98      0.81      0.89     12532\n",
            "           1       0.86      0.99      0.92     14578\n",
            "\n",
            "    accuracy                           0.91     27110\n",
            "   macro avg       0.92      0.90      0.90     27110\n",
            "weighted avg       0.92      0.91      0.90     27110\n",
            "\n",
            "Evaluating Multinomial Naive Bayes (TF-IDF Unigrams) on validation set...\n",
            "\n",
            "===== Multinomial Naive Bayes (TF-IDF Unigrams): Validation Set =====\n",
            "Classification Report:\n",
            "              precision    recall  f1-score   support\n",
            "\n",
            "           0       0.98      0.79      0.87      2685\n",
            "           1       0.85      0.98      0.91      3124\n",
            "\n",
            "    accuracy                           0.90      5809\n",
            "   macro avg       0.91      0.89      0.89      5809\n",
            "weighted avg       0.91      0.90      0.89      5809\n",
            "\n",
            "                                       Model  Accuracy  Precision    Recall  \\\n",
            "0  Multinomial Naive Bayes (TF-IDF Unigrams)  0.906160   0.858070  0.989093   \n",
            "1  Multinomial Naive Bayes (TF-IDF Unigrams)  0.895163   0.846133  0.983995   \n",
            "\n",
            "   F1-score     Dataset  \n",
            "0  0.918934       Train  \n",
            "1  0.909871  Validation  \n"
          ]
        }
      ],
      "source": [
        "tfidf_uni_nb_metrics = fit_pipeline_predict_evaluate(\n",
        "    model_class=MultinomialNB(alpha=7),\n",
        "    model_name=\"Multinomial Naive Bayes (TF-IDF Unigrams)\",\n",
        "    X_train=X_train,\n",
        "    y_train=y_train,\n",
        "    X_val=X_val,\n",
        "    y_val=y_val,\n",
        "    vectorizer_type='tfidf',\n",
        "    ngram_range=(1, 1)\n",
        ")\n",
        "\n",
        "print(tfidf_uni_nb_metrics)"
      ]
    },
    {
      "cell_type": "code",
      "execution_count": null,
      "metadata": {
        "id": "dQg80WrBMxrX",
        "outputId": "6e790305-aefb-4022-ec8e-4ff3498cf0a3"
      },
      "outputs": [
        {
          "name": "stdout",
          "output_type": "stream",
          "text": [
            "Fitting Random Forest (TF-IDF Unigrams)...\n",
            "Predicting on training set...\n",
            "Predicting on validation set...\n",
            "Evaluating Random Forest (TF-IDF Unigrams) on training set...\n",
            "\n",
            "===== Random Forest (TF-IDF Unigrams): Train Set =====\n",
            "Classification Report:\n",
            "              precision    recall  f1-score   support\n",
            "\n",
            "           0       0.99      0.98      0.99     12532\n",
            "           1       0.99      1.00      0.99     14578\n",
            "\n",
            "    accuracy                           0.99     27110\n",
            "   macro avg       0.99      0.99      0.99     27110\n",
            "weighted avg       0.99      0.99      0.99     27110\n",
            "\n",
            "Evaluating Random Forest (TF-IDF Unigrams) on validation set...\n",
            "\n",
            "===== Random Forest (TF-IDF Unigrams): Validation Set =====\n",
            "Classification Report:\n",
            "              precision    recall  f1-score   support\n",
            "\n",
            "           0       0.98      0.96      0.97      2685\n",
            "           1       0.97      0.98      0.98      3124\n",
            "\n",
            "    accuracy                           0.97      5809\n",
            "   macro avg       0.97      0.97      0.97      5809\n",
            "weighted avg       0.97      0.97      0.97      5809\n",
            "\n",
            "                             Model  Accuracy  Precision    Recall  F1-score  \\\n",
            "0  Random Forest (TF-IDF Unigrams)  0.989782   0.985867  0.995267  0.990544   \n",
            "1  Random Forest (TF-IDF Unigrams)  0.973145   0.967254  0.983355  0.975238   \n",
            "\n",
            "      Dataset  \n",
            "0       Train  \n",
            "1  Validation  \n"
          ]
        }
      ],
      "source": [
        "tfidf_uni_rf_metrics = fit_pipeline_predict_evaluate(\n",
        "    model_class=RandomForestClassifier(\n",
        "    n_estimators=100,\n",
        "    max_depth=120,\n",
        "    min_samples_leaf=5,\n",
        "    max_features='sqrt',\n",
        "    random_state=7),\n",
        "    model_name=\"Random Forest (TF-IDF Unigrams)\",\n",
        "    X_train=X_train,\n",
        "    y_train=y_train,\n",
        "    X_val=X_val,\n",
        "    y_val=y_val,\n",
        "    vectorizer_type='tfidf',\n",
        "    ngram_range=(1, 1)\n",
        ")\n",
        "\n",
        "print(tfidf_uni_rf_metrics)"
      ]
    },
    {
      "cell_type": "code",
      "execution_count": null,
      "metadata": {
        "id": "eBOTXhwsMxre"
      },
      "outputs": [],
      "source": [
        "tfidf_mlp_metrics = fit_pipeline_predict_evaluate(\n",
        "    model_class=MLPClassifier(\n",
        "    hidden_layer_sizes=(32,),\n",
        "    activation='relu',\n",
        "    solver='adam',\n",
        "    alpha=0.001,\n",
        "    batch_size=64,\n",
        "    learning_rate='adaptive',\n",
        "    max_iter=100,\n",
        "    early_stopping=True,\n",
        "    random_state=42\n",
        "),\n",
        "    model_name=\"MLP\",\n",
        "    X_train=X_train,\n",
        "    y_train=y_train,\n",
        "    X_val=X_val,\n",
        "    y_val=y_val,\n",
        "    vectorizer_type='tfidf',\n",
        "    ngram_range=(1, 1)\n",
        ")\n",
        "print(tfidf_mlp_metrics)"
      ]
    }
  ],
  "metadata": {
    "kernelspec": {
      "display_name": "Python 3",
      "language": "python",
      "name": "python3"
    },
    "language_info": {
      "codemirror_mode": {
        "name": "ipython",
        "version": 3
      },
      "file_extension": ".py",
      "mimetype": "text/x-python",
      "name": "python",
      "nbconvert_exporter": "python",
      "pygments_lexer": "ipython3",
      "version": "3.9.6"
    },
    "colab": {
      "provenance": []
    }
  },
  "nbformat": 4,
  "nbformat_minor": 0
}