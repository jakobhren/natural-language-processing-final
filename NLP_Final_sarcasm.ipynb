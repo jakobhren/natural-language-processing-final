{
  "cells": [
    {
      "cell_type": "markdown",
      "metadata": {
        "id": "H4IHEScMMxqB"
      },
      "source": [
        "# Natural Language Processing Final Assignment"
      ]
    },
    {
      "cell_type": "markdown",
      "metadata": {
        "id": "N7ISqvoYMxqD"
      },
      "source": [
        "## Real - Fake News Classification: A Comparison of Natural Language Models for Classification"
      ]
    },
    {
      "cell_type": "code",
      "execution_count": 1,
      "metadata": {
        "id": "25DzqaE2MxqG"
      },
      "outputs": [],
      "source": [
        "# Import Libraries\n",
        "import json\n",
        "import pandas as pd\n",
        "import numpy as np\n",
        "from sklearn.model_selection import train_test_split\n",
        "import string\n",
        "import re\n",
        "import nltk\n",
        "from nltk.corpus import stopwords\n",
        "from nltk.stem import WordNetLemmatizer\n",
        "from sklearn.metrics import (\n",
        "    classification_report,\n",
        "    accuracy_score,\n",
        "    precision_score,\n",
        "    recall_score,\n",
        "    f1_score\n",
        ")\n",
        "from sklearn.pipeline import make_pipeline\n",
        "from sklearn.base import clone\n",
        "from sklearn.linear_model import LogisticRegression\n",
        "from sklearn.feature_extraction.text import TfidfVectorizer, CountVectorizer\n",
        "from sklearn.naive_bayes import MultinomialNB\n",
        "from sklearn.ensemble import RandomForestClassifier\n",
        "from sklearn.neural_network import MLPClassifier\n",
        "\n"
      ]
    },
    {
      "cell_type": "code",
      "source": [
        "df_raw = pd.read_json(\"data/Sarcasm_Headlines_Dataset.json\", lines=True)"
      ],
      "metadata": {
        "id": "GWtTaQnedwiI"
      },
      "execution_count": 2,
      "outputs": []
    },
    {
      "cell_type": "code",
      "execution_count": 3,
      "metadata": {
        "colab": {
          "base_uri": "https://localhost:8080/",
          "height": 206
        },
        "id": "6trVVFKrMxqK",
        "outputId": "2f41495b-c6e3-4ce5-c787-2693ef7c62bb"
      },
      "outputs": [
        {
          "output_type": "execute_result",
          "data": {
            "text/plain": [
              "                                        article_link  \\\n",
              "0  https://www.huffingtonpost.com/entry/versace-b...   \n",
              "1  https://www.huffingtonpost.com/entry/roseanne-...   \n",
              "2  https://local.theonion.com/mom-starting-to-fea...   \n",
              "3  https://politics.theonion.com/boehner-just-wan...   \n",
              "4  https://www.huffingtonpost.com/entry/jk-rowlin...   \n",
              "\n",
              "                                            headline  is_sarcastic  \n",
              "0  former versace store clerk sues over secret 'b...             0  \n",
              "1  the 'roseanne' revival catches up to our thorn...             0  \n",
              "2  mom starting to fear son's web series closest ...             1  \n",
              "3  boehner just wants wife to listen, not come up...             1  \n",
              "4  j.k. rowling wishes snape happy birthday in th...             0  "
            ],
            "text/html": [
              "\n",
              "  <div id=\"df-40d7efd4-0428-4b29-9113-dc12f490025b\" class=\"colab-df-container\">\n",
              "    <div>\n",
              "<style scoped>\n",
              "    .dataframe tbody tr th:only-of-type {\n",
              "        vertical-align: middle;\n",
              "    }\n",
              "\n",
              "    .dataframe tbody tr th {\n",
              "        vertical-align: top;\n",
              "    }\n",
              "\n",
              "    .dataframe thead th {\n",
              "        text-align: right;\n",
              "    }\n",
              "</style>\n",
              "<table border=\"1\" class=\"dataframe\">\n",
              "  <thead>\n",
              "    <tr style=\"text-align: right;\">\n",
              "      <th></th>\n",
              "      <th>article_link</th>\n",
              "      <th>headline</th>\n",
              "      <th>is_sarcastic</th>\n",
              "    </tr>\n",
              "  </thead>\n",
              "  <tbody>\n",
              "    <tr>\n",
              "      <th>0</th>\n",
              "      <td>https://www.huffingtonpost.com/entry/versace-b...</td>\n",
              "      <td>former versace store clerk sues over secret 'b...</td>\n",
              "      <td>0</td>\n",
              "    </tr>\n",
              "    <tr>\n",
              "      <th>1</th>\n",
              "      <td>https://www.huffingtonpost.com/entry/roseanne-...</td>\n",
              "      <td>the 'roseanne' revival catches up to our thorn...</td>\n",
              "      <td>0</td>\n",
              "    </tr>\n",
              "    <tr>\n",
              "      <th>2</th>\n",
              "      <td>https://local.theonion.com/mom-starting-to-fea...</td>\n",
              "      <td>mom starting to fear son's web series closest ...</td>\n",
              "      <td>1</td>\n",
              "    </tr>\n",
              "    <tr>\n",
              "      <th>3</th>\n",
              "      <td>https://politics.theonion.com/boehner-just-wan...</td>\n",
              "      <td>boehner just wants wife to listen, not come up...</td>\n",
              "      <td>1</td>\n",
              "    </tr>\n",
              "    <tr>\n",
              "      <th>4</th>\n",
              "      <td>https://www.huffingtonpost.com/entry/jk-rowlin...</td>\n",
              "      <td>j.k. rowling wishes snape happy birthday in th...</td>\n",
              "      <td>0</td>\n",
              "    </tr>\n",
              "  </tbody>\n",
              "</table>\n",
              "</div>\n",
              "    <div class=\"colab-df-buttons\">\n",
              "\n",
              "  <div class=\"colab-df-container\">\n",
              "    <button class=\"colab-df-convert\" onclick=\"convertToInteractive('df-40d7efd4-0428-4b29-9113-dc12f490025b')\"\n",
              "            title=\"Convert this dataframe to an interactive table.\"\n",
              "            style=\"display:none;\">\n",
              "\n",
              "  <svg xmlns=\"http://www.w3.org/2000/svg\" height=\"24px\" viewBox=\"0 -960 960 960\">\n",
              "    <path d=\"M120-120v-720h720v720H120Zm60-500h600v-160H180v160Zm220 220h160v-160H400v160Zm0 220h160v-160H400v160ZM180-400h160v-160H180v160Zm440 0h160v-160H620v160ZM180-180h160v-160H180v160Zm440 0h160v-160H620v160Z\"/>\n",
              "  </svg>\n",
              "    </button>\n",
              "\n",
              "  <style>\n",
              "    .colab-df-container {\n",
              "      display:flex;\n",
              "      gap: 12px;\n",
              "    }\n",
              "\n",
              "    .colab-df-convert {\n",
              "      background-color: #E8F0FE;\n",
              "      border: none;\n",
              "      border-radius: 50%;\n",
              "      cursor: pointer;\n",
              "      display: none;\n",
              "      fill: #1967D2;\n",
              "      height: 32px;\n",
              "      padding: 0 0 0 0;\n",
              "      width: 32px;\n",
              "    }\n",
              "\n",
              "    .colab-df-convert:hover {\n",
              "      background-color: #E2EBFA;\n",
              "      box-shadow: 0px 1px 2px rgba(60, 64, 67, 0.3), 0px 1px 3px 1px rgba(60, 64, 67, 0.15);\n",
              "      fill: #174EA6;\n",
              "    }\n",
              "\n",
              "    .colab-df-buttons div {\n",
              "      margin-bottom: 4px;\n",
              "    }\n",
              "\n",
              "    [theme=dark] .colab-df-convert {\n",
              "      background-color: #3B4455;\n",
              "      fill: #D2E3FC;\n",
              "    }\n",
              "\n",
              "    [theme=dark] .colab-df-convert:hover {\n",
              "      background-color: #434B5C;\n",
              "      box-shadow: 0px 1px 3px 1px rgba(0, 0, 0, 0.15);\n",
              "      filter: drop-shadow(0px 1px 2px rgba(0, 0, 0, 0.3));\n",
              "      fill: #FFFFFF;\n",
              "    }\n",
              "  </style>\n",
              "\n",
              "    <script>\n",
              "      const buttonEl =\n",
              "        document.querySelector('#df-40d7efd4-0428-4b29-9113-dc12f490025b button.colab-df-convert');\n",
              "      buttonEl.style.display =\n",
              "        google.colab.kernel.accessAllowed ? 'block' : 'none';\n",
              "\n",
              "      async function convertToInteractive(key) {\n",
              "        const element = document.querySelector('#df-40d7efd4-0428-4b29-9113-dc12f490025b');\n",
              "        const dataTable =\n",
              "          await google.colab.kernel.invokeFunction('convertToInteractive',\n",
              "                                                    [key], {});\n",
              "        if (!dataTable) return;\n",
              "\n",
              "        const docLinkHtml = 'Like what you see? Visit the ' +\n",
              "          '<a target=\"_blank\" href=https://colab.research.google.com/notebooks/data_table.ipynb>data table notebook</a>'\n",
              "          + ' to learn more about interactive tables.';\n",
              "        element.innerHTML = '';\n",
              "        dataTable['output_type'] = 'display_data';\n",
              "        await google.colab.output.renderOutput(dataTable, element);\n",
              "        const docLink = document.createElement('div');\n",
              "        docLink.innerHTML = docLinkHtml;\n",
              "        element.appendChild(docLink);\n",
              "      }\n",
              "    </script>\n",
              "  </div>\n",
              "\n",
              "\n",
              "    <div id=\"df-89bb76f9-3c05-4e02-aabf-fe60737bd95e\">\n",
              "      <button class=\"colab-df-quickchart\" onclick=\"quickchart('df-89bb76f9-3c05-4e02-aabf-fe60737bd95e')\"\n",
              "                title=\"Suggest charts\"\n",
              "                style=\"display:none;\">\n",
              "\n",
              "<svg xmlns=\"http://www.w3.org/2000/svg\" height=\"24px\"viewBox=\"0 0 24 24\"\n",
              "     width=\"24px\">\n",
              "    <g>\n",
              "        <path d=\"M19 3H5c-1.1 0-2 .9-2 2v14c0 1.1.9 2 2 2h14c1.1 0 2-.9 2-2V5c0-1.1-.9-2-2-2zM9 17H7v-7h2v7zm4 0h-2V7h2v10zm4 0h-2v-4h2v4z\"/>\n",
              "    </g>\n",
              "</svg>\n",
              "      </button>\n",
              "\n",
              "<style>\n",
              "  .colab-df-quickchart {\n",
              "      --bg-color: #E8F0FE;\n",
              "      --fill-color: #1967D2;\n",
              "      --hover-bg-color: #E2EBFA;\n",
              "      --hover-fill-color: #174EA6;\n",
              "      --disabled-fill-color: #AAA;\n",
              "      --disabled-bg-color: #DDD;\n",
              "  }\n",
              "\n",
              "  [theme=dark] .colab-df-quickchart {\n",
              "      --bg-color: #3B4455;\n",
              "      --fill-color: #D2E3FC;\n",
              "      --hover-bg-color: #434B5C;\n",
              "      --hover-fill-color: #FFFFFF;\n",
              "      --disabled-bg-color: #3B4455;\n",
              "      --disabled-fill-color: #666;\n",
              "  }\n",
              "\n",
              "  .colab-df-quickchart {\n",
              "    background-color: var(--bg-color);\n",
              "    border: none;\n",
              "    border-radius: 50%;\n",
              "    cursor: pointer;\n",
              "    display: none;\n",
              "    fill: var(--fill-color);\n",
              "    height: 32px;\n",
              "    padding: 0;\n",
              "    width: 32px;\n",
              "  }\n",
              "\n",
              "  .colab-df-quickchart:hover {\n",
              "    background-color: var(--hover-bg-color);\n",
              "    box-shadow: 0 1px 2px rgba(60, 64, 67, 0.3), 0 1px 3px 1px rgba(60, 64, 67, 0.15);\n",
              "    fill: var(--button-hover-fill-color);\n",
              "  }\n",
              "\n",
              "  .colab-df-quickchart-complete:disabled,\n",
              "  .colab-df-quickchart-complete:disabled:hover {\n",
              "    background-color: var(--disabled-bg-color);\n",
              "    fill: var(--disabled-fill-color);\n",
              "    box-shadow: none;\n",
              "  }\n",
              "\n",
              "  .colab-df-spinner {\n",
              "    border: 2px solid var(--fill-color);\n",
              "    border-color: transparent;\n",
              "    border-bottom-color: var(--fill-color);\n",
              "    animation:\n",
              "      spin 1s steps(1) infinite;\n",
              "  }\n",
              "\n",
              "  @keyframes spin {\n",
              "    0% {\n",
              "      border-color: transparent;\n",
              "      border-bottom-color: var(--fill-color);\n",
              "      border-left-color: var(--fill-color);\n",
              "    }\n",
              "    20% {\n",
              "      border-color: transparent;\n",
              "      border-left-color: var(--fill-color);\n",
              "      border-top-color: var(--fill-color);\n",
              "    }\n",
              "    30% {\n",
              "      border-color: transparent;\n",
              "      border-left-color: var(--fill-color);\n",
              "      border-top-color: var(--fill-color);\n",
              "      border-right-color: var(--fill-color);\n",
              "    }\n",
              "    40% {\n",
              "      border-color: transparent;\n",
              "      border-right-color: var(--fill-color);\n",
              "      border-top-color: var(--fill-color);\n",
              "    }\n",
              "    60% {\n",
              "      border-color: transparent;\n",
              "      border-right-color: var(--fill-color);\n",
              "    }\n",
              "    80% {\n",
              "      border-color: transparent;\n",
              "      border-right-color: var(--fill-color);\n",
              "      border-bottom-color: var(--fill-color);\n",
              "    }\n",
              "    90% {\n",
              "      border-color: transparent;\n",
              "      border-bottom-color: var(--fill-color);\n",
              "    }\n",
              "  }\n",
              "</style>\n",
              "\n",
              "      <script>\n",
              "        async function quickchart(key) {\n",
              "          const quickchartButtonEl =\n",
              "            document.querySelector('#' + key + ' button');\n",
              "          quickchartButtonEl.disabled = true;  // To prevent multiple clicks.\n",
              "          quickchartButtonEl.classList.add('colab-df-spinner');\n",
              "          try {\n",
              "            const charts = await google.colab.kernel.invokeFunction(\n",
              "                'suggestCharts', [key], {});\n",
              "          } catch (error) {\n",
              "            console.error('Error during call to suggestCharts:', error);\n",
              "          }\n",
              "          quickchartButtonEl.classList.remove('colab-df-spinner');\n",
              "          quickchartButtonEl.classList.add('colab-df-quickchart-complete');\n",
              "        }\n",
              "        (() => {\n",
              "          let quickchartButtonEl =\n",
              "            document.querySelector('#df-89bb76f9-3c05-4e02-aabf-fe60737bd95e button');\n",
              "          quickchartButtonEl.style.display =\n",
              "            google.colab.kernel.accessAllowed ? 'block' : 'none';\n",
              "        })();\n",
              "      </script>\n",
              "    </div>\n",
              "\n",
              "    </div>\n",
              "  </div>\n"
            ],
            "application/vnd.google.colaboratory.intrinsic+json": {
              "type": "dataframe",
              "variable_name": "df_raw",
              "summary": "{\n  \"name\": \"df_raw\",\n  \"rows\": 26709,\n  \"fields\": [\n    {\n      \"column\": \"article_link\",\n      \"properties\": {\n        \"dtype\": \"string\",\n        \"num_unique_values\": 26708,\n        \"samples\": [\n          \"https://www.theonion.com/isis-recruiter-excited-to-be-talking-to-popular-high-sc-1819579508\",\n          \"https://www.huffingtonpost.com/entry/jimmy-fallon-could-barely-keep-it-together-during-this-cardi-b-interview_us_5a3c01aae4b06d1621b2de98\",\n          \"https://www.huffingtonpost.com/entry/4-ways-to-support-farmtos_b_5906452.html\"\n        ],\n        \"semantic_type\": \"\",\n        \"description\": \"\"\n      }\n    },\n    {\n      \"column\": \"headline\",\n      \"properties\": {\n        \"dtype\": \"string\",\n        \"num_unique_values\": 26602,\n        \"samples\": [\n          \"departing employee not quite important enough for send-off\",\n          \"college student still managing to look like asshole in picture of village he helped build\",\n          \"fun sticker placed on child's ventilator\"\n        ],\n        \"semantic_type\": \"\",\n        \"description\": \"\"\n      }\n    },\n    {\n      \"column\": \"is_sarcastic\",\n      \"properties\": {\n        \"dtype\": \"number\",\n        \"std\": 0,\n        \"min\": 0,\n        \"max\": 1,\n        \"num_unique_values\": 2,\n        \"samples\": [\n          1,\n          0\n        ],\n        \"semantic_type\": \"\",\n        \"description\": \"\"\n      }\n    }\n  ]\n}"
            }
          },
          "metadata": {},
          "execution_count": 3
        }
      ],
      "source": [
        "df_raw.head()"
      ]
    },
    {
      "cell_type": "code",
      "source": [
        "df_raw.shape"
      ],
      "metadata": {
        "colab": {
          "base_uri": "https://localhost:8080/"
        },
        "id": "SnjLGlEMlzT-",
        "outputId": "f0da7116-5322-4135-b75f-61ecb01dbbac"
      },
      "execution_count": 4,
      "outputs": [
        {
          "output_type": "execute_result",
          "data": {
            "text/plain": [
              "(26709, 3)"
            ]
          },
          "metadata": {},
          "execution_count": 4
        }
      ]
    },
    {
      "cell_type": "code",
      "source": [
        "df_raw.isnull().sum()"
      ],
      "metadata": {
        "colab": {
          "base_uri": "https://localhost:8080/",
          "height": 178
        },
        "id": "gU5WXkB5l4qs",
        "outputId": "d26d0eb2-7fb7-4e0f-9cad-f1cdb2e0a346"
      },
      "execution_count": 5,
      "outputs": [
        {
          "output_type": "execute_result",
          "data": {
            "text/plain": [
              "article_link    0\n",
              "headline        0\n",
              "is_sarcastic    0\n",
              "dtype: int64"
            ],
            "text/html": [
              "<div>\n",
              "<style scoped>\n",
              "    .dataframe tbody tr th:only-of-type {\n",
              "        vertical-align: middle;\n",
              "    }\n",
              "\n",
              "    .dataframe tbody tr th {\n",
              "        vertical-align: top;\n",
              "    }\n",
              "\n",
              "    .dataframe thead th {\n",
              "        text-align: right;\n",
              "    }\n",
              "</style>\n",
              "<table border=\"1\" class=\"dataframe\">\n",
              "  <thead>\n",
              "    <tr style=\"text-align: right;\">\n",
              "      <th></th>\n",
              "      <th>0</th>\n",
              "    </tr>\n",
              "  </thead>\n",
              "  <tbody>\n",
              "    <tr>\n",
              "      <th>article_link</th>\n",
              "      <td>0</td>\n",
              "    </tr>\n",
              "    <tr>\n",
              "      <th>headline</th>\n",
              "      <td>0</td>\n",
              "    </tr>\n",
              "    <tr>\n",
              "      <th>is_sarcastic</th>\n",
              "      <td>0</td>\n",
              "    </tr>\n",
              "  </tbody>\n",
              "</table>\n",
              "</div><br><label><b>dtype:</b> int64</label>"
            ]
          },
          "metadata": {},
          "execution_count": 5
        }
      ]
    },
    {
      "cell_type": "code",
      "source": [
        "df_raw.headline.value_counts()"
      ],
      "metadata": {
        "colab": {
          "base_uri": "https://localhost:8080/",
          "height": 489
        },
        "id": "_-_r2Nyil8cn",
        "outputId": "46dc37df-5df8-48d2-a663-b81eccc401a2"
      },
      "execution_count": 6,
      "outputs": [
        {
          "output_type": "execute_result",
          "data": {
            "text/plain": [
              "headline\n",
              "the 20 funniest tweets from women this week                                10\n",
              "sunday roundup                                                             10\n",
              "'no way to prevent this,' says only nation where this regularly happens     8\n",
              "the funniest tweets from parents this week                                  6\n",
              "the funniest tweets from women this week                                    4\n",
              "                                                                           ..\n",
              "man's dream to get drunk in an a-frame finally realized                     1\n",
              "eager understudy beginning to think john lithgow impervious to disease      1\n",
              "grateful for my mom's legacy this mother's day                              1\n",
              "republican pick-up lines are about as creepy as you might imagine           1\n",
              "screaming japanese schoolgirls overturn greenspan's bus                     1\n",
              "Name: count, Length: 26602, dtype: int64"
            ],
            "text/html": [
              "<div>\n",
              "<style scoped>\n",
              "    .dataframe tbody tr th:only-of-type {\n",
              "        vertical-align: middle;\n",
              "    }\n",
              "\n",
              "    .dataframe tbody tr th {\n",
              "        vertical-align: top;\n",
              "    }\n",
              "\n",
              "    .dataframe thead th {\n",
              "        text-align: right;\n",
              "    }\n",
              "</style>\n",
              "<table border=\"1\" class=\"dataframe\">\n",
              "  <thead>\n",
              "    <tr style=\"text-align: right;\">\n",
              "      <th></th>\n",
              "      <th>count</th>\n",
              "    </tr>\n",
              "    <tr>\n",
              "      <th>headline</th>\n",
              "      <th></th>\n",
              "    </tr>\n",
              "  </thead>\n",
              "  <tbody>\n",
              "    <tr>\n",
              "      <th>the 20 funniest tweets from women this week</th>\n",
              "      <td>10</td>\n",
              "    </tr>\n",
              "    <tr>\n",
              "      <th>sunday roundup</th>\n",
              "      <td>10</td>\n",
              "    </tr>\n",
              "    <tr>\n",
              "      <th>'no way to prevent this,' says only nation where this regularly happens</th>\n",
              "      <td>8</td>\n",
              "    </tr>\n",
              "    <tr>\n",
              "      <th>the funniest tweets from parents this week</th>\n",
              "      <td>6</td>\n",
              "    </tr>\n",
              "    <tr>\n",
              "      <th>the funniest tweets from women this week</th>\n",
              "      <td>4</td>\n",
              "    </tr>\n",
              "    <tr>\n",
              "      <th>...</th>\n",
              "      <td>...</td>\n",
              "    </tr>\n",
              "    <tr>\n",
              "      <th>man's dream to get drunk in an a-frame finally realized</th>\n",
              "      <td>1</td>\n",
              "    </tr>\n",
              "    <tr>\n",
              "      <th>eager understudy beginning to think john lithgow impervious to disease</th>\n",
              "      <td>1</td>\n",
              "    </tr>\n",
              "    <tr>\n",
              "      <th>grateful for my mom's legacy this mother's day</th>\n",
              "      <td>1</td>\n",
              "    </tr>\n",
              "    <tr>\n",
              "      <th>republican pick-up lines are about as creepy as you might imagine</th>\n",
              "      <td>1</td>\n",
              "    </tr>\n",
              "    <tr>\n",
              "      <th>screaming japanese schoolgirls overturn greenspan's bus</th>\n",
              "      <td>1</td>\n",
              "    </tr>\n",
              "  </tbody>\n",
              "</table>\n",
              "<p>26602 rows × 1 columns</p>\n",
              "</div><br><label><b>dtype:</b> int64</label>"
            ]
          },
          "metadata": {},
          "execution_count": 6
        }
      ]
    },
    {
      "cell_type": "code",
      "source": [
        "# drop duplicates in headline\n",
        "df_raw.drop_duplicates(subset=['headline'], inplace=True)"
      ],
      "metadata": {
        "id": "6OFxEmBqmqP9"
      },
      "execution_count": 7,
      "outputs": []
    },
    {
      "cell_type": "code",
      "source": [
        "df_raw.article_link.value_counts()"
      ],
      "metadata": {
        "colab": {
          "base_uri": "https://localhost:8080/",
          "height": 489
        },
        "id": "yh01ea0kmH9e",
        "outputId": "28718dd8-f7db-42e7-cbc1-46403efdf3ba"
      },
      "execution_count": 8,
      "outputs": [
        {
          "output_type": "execute_result",
          "data": {
            "text/plain": [
              "article_link\n",
              "https://www.huffingtonpost.com/entry/gourmet-gifts-for-the-foo_b_6272532.html                                                                      1\n",
              "https://www.huffingtonpost.com/entry/versace-black-code_us_5861fbefe4b0de3a08f600d5                                                                1\n",
              "https://www.huffingtonpost.com/entry/roseanne-revival-review_us_5ab3a497e4b054d118e04365                                                           1\n",
              "https://local.theonion.com/mom-starting-to-fear-son-s-web-series-closest-thing-she-1819576697                                                      1\n",
              "https://politics.theonion.com/boehner-just-wants-wife-to-listen-not-come-up-with-alt-1819574302                                                    1\n",
              "                                                                                                                                                  ..\n",
              "https://www.huffingtonpost.com/entry/barcelona-refugee-protest_us_58aa040ce4b037d17d290230                                                         1\n",
              "https://www.huffingtonpost.com/entry/jeffrey-lord-worst-comments_us_598cd410e4b09071f6989d91                                                       1\n",
              "https://www.huffingtonpost.comhttp://www.theguardian.com/world/2016/may/31/north-korea-praises-trump-and-urges-us-voters-to-reject-dull-hillary    1\n",
              "https://www.huffingtonpost.com/entry/facebook-healthcare_n_5926140.html                                                                            1\n",
              "https://www.huffingtonpost.com/entry/airline-passengers-tackle-man-who-rushes-cockpit-in-bomb-threat_us_59302e57e4b07572bdbf9460                   1\n",
              "Name: count, Length: 26602, dtype: int64"
            ],
            "text/html": [
              "<div>\n",
              "<style scoped>\n",
              "    .dataframe tbody tr th:only-of-type {\n",
              "        vertical-align: middle;\n",
              "    }\n",
              "\n",
              "    .dataframe tbody tr th {\n",
              "        vertical-align: top;\n",
              "    }\n",
              "\n",
              "    .dataframe thead th {\n",
              "        text-align: right;\n",
              "    }\n",
              "</style>\n",
              "<table border=\"1\" class=\"dataframe\">\n",
              "  <thead>\n",
              "    <tr style=\"text-align: right;\">\n",
              "      <th></th>\n",
              "      <th>count</th>\n",
              "    </tr>\n",
              "    <tr>\n",
              "      <th>article_link</th>\n",
              "      <th></th>\n",
              "    </tr>\n",
              "  </thead>\n",
              "  <tbody>\n",
              "    <tr>\n",
              "      <th>https://www.huffingtonpost.com/entry/gourmet-gifts-for-the-foo_b_6272532.html</th>\n",
              "      <td>1</td>\n",
              "    </tr>\n",
              "    <tr>\n",
              "      <th>https://www.huffingtonpost.com/entry/versace-black-code_us_5861fbefe4b0de3a08f600d5</th>\n",
              "      <td>1</td>\n",
              "    </tr>\n",
              "    <tr>\n",
              "      <th>https://www.huffingtonpost.com/entry/roseanne-revival-review_us_5ab3a497e4b054d118e04365</th>\n",
              "      <td>1</td>\n",
              "    </tr>\n",
              "    <tr>\n",
              "      <th>https://local.theonion.com/mom-starting-to-fear-son-s-web-series-closest-thing-she-1819576697</th>\n",
              "      <td>1</td>\n",
              "    </tr>\n",
              "    <tr>\n",
              "      <th>https://politics.theonion.com/boehner-just-wants-wife-to-listen-not-come-up-with-alt-1819574302</th>\n",
              "      <td>1</td>\n",
              "    </tr>\n",
              "    <tr>\n",
              "      <th>...</th>\n",
              "      <td>...</td>\n",
              "    </tr>\n",
              "    <tr>\n",
              "      <th>https://www.huffingtonpost.com/entry/barcelona-refugee-protest_us_58aa040ce4b037d17d290230</th>\n",
              "      <td>1</td>\n",
              "    </tr>\n",
              "    <tr>\n",
              "      <th>https://www.huffingtonpost.com/entry/jeffrey-lord-worst-comments_us_598cd410e4b09071f6989d91</th>\n",
              "      <td>1</td>\n",
              "    </tr>\n",
              "    <tr>\n",
              "      <th>https://www.huffingtonpost.comhttp://www.theguardian.com/world/2016/may/31/north-korea-praises-trump-and-urges-us-voters-to-reject-dull-hillary</th>\n",
              "      <td>1</td>\n",
              "    </tr>\n",
              "    <tr>\n",
              "      <th>https://www.huffingtonpost.com/entry/facebook-healthcare_n_5926140.html</th>\n",
              "      <td>1</td>\n",
              "    </tr>\n",
              "    <tr>\n",
              "      <th>https://www.huffingtonpost.com/entry/airline-passengers-tackle-man-who-rushes-cockpit-in-bomb-threat_us_59302e57e4b07572bdbf9460</th>\n",
              "      <td>1</td>\n",
              "    </tr>\n",
              "  </tbody>\n",
              "</table>\n",
              "<p>26602 rows × 1 columns</p>\n",
              "</div><br><label><b>dtype:</b> int64</label>"
            ]
          },
          "metadata": {},
          "execution_count": 8
        }
      ]
    },
    {
      "cell_type": "code",
      "source": [
        "# drop duplicates in article_link\n",
        "df_raw.drop_duplicates(subset=['article_link'], inplace=True)"
      ],
      "metadata": {
        "id": "G7mteJcbmOd-"
      },
      "execution_count": 9,
      "outputs": []
    },
    {
      "cell_type": "code",
      "source": [
        "df_raw.article_link.value_counts()"
      ],
      "metadata": {
        "colab": {
          "base_uri": "https://localhost:8080/",
          "height": 489
        },
        "id": "styyIMPCmXj1",
        "outputId": "3e2c5780-6e17-42ff-8343-a28798b8c4eb"
      },
      "execution_count": 10,
      "outputs": [
        {
          "output_type": "execute_result",
          "data": {
            "text/plain": [
              "article_link\n",
              "https://www.huffingtonpost.com/entry/gourmet-gifts-for-the-foo_b_6272532.html                                                                      1\n",
              "https://www.huffingtonpost.com/entry/versace-black-code_us_5861fbefe4b0de3a08f600d5                                                                1\n",
              "https://www.huffingtonpost.com/entry/roseanne-revival-review_us_5ab3a497e4b054d118e04365                                                           1\n",
              "https://local.theonion.com/mom-starting-to-fear-son-s-web-series-closest-thing-she-1819576697                                                      1\n",
              "https://politics.theonion.com/boehner-just-wants-wife-to-listen-not-come-up-with-alt-1819574302                                                    1\n",
              "                                                                                                                                                  ..\n",
              "https://www.huffingtonpost.com/entry/barcelona-refugee-protest_us_58aa040ce4b037d17d290230                                                         1\n",
              "https://www.huffingtonpost.com/entry/jeffrey-lord-worst-comments_us_598cd410e4b09071f6989d91                                                       1\n",
              "https://www.huffingtonpost.comhttp://www.theguardian.com/world/2016/may/31/north-korea-praises-trump-and-urges-us-voters-to-reject-dull-hillary    1\n",
              "https://www.huffingtonpost.com/entry/facebook-healthcare_n_5926140.html                                                                            1\n",
              "https://www.huffingtonpost.com/entry/airline-passengers-tackle-man-who-rushes-cockpit-in-bomb-threat_us_59302e57e4b07572bdbf9460                   1\n",
              "Name: count, Length: 26602, dtype: int64"
            ],
            "text/html": [
              "<div>\n",
              "<style scoped>\n",
              "    .dataframe tbody tr th:only-of-type {\n",
              "        vertical-align: middle;\n",
              "    }\n",
              "\n",
              "    .dataframe tbody tr th {\n",
              "        vertical-align: top;\n",
              "    }\n",
              "\n",
              "    .dataframe thead th {\n",
              "        text-align: right;\n",
              "    }\n",
              "</style>\n",
              "<table border=\"1\" class=\"dataframe\">\n",
              "  <thead>\n",
              "    <tr style=\"text-align: right;\">\n",
              "      <th></th>\n",
              "      <th>count</th>\n",
              "    </tr>\n",
              "    <tr>\n",
              "      <th>article_link</th>\n",
              "      <th></th>\n",
              "    </tr>\n",
              "  </thead>\n",
              "  <tbody>\n",
              "    <tr>\n",
              "      <th>https://www.huffingtonpost.com/entry/gourmet-gifts-for-the-foo_b_6272532.html</th>\n",
              "      <td>1</td>\n",
              "    </tr>\n",
              "    <tr>\n",
              "      <th>https://www.huffingtonpost.com/entry/versace-black-code_us_5861fbefe4b0de3a08f600d5</th>\n",
              "      <td>1</td>\n",
              "    </tr>\n",
              "    <tr>\n",
              "      <th>https://www.huffingtonpost.com/entry/roseanne-revival-review_us_5ab3a497e4b054d118e04365</th>\n",
              "      <td>1</td>\n",
              "    </tr>\n",
              "    <tr>\n",
              "      <th>https://local.theonion.com/mom-starting-to-fear-son-s-web-series-closest-thing-she-1819576697</th>\n",
              "      <td>1</td>\n",
              "    </tr>\n",
              "    <tr>\n",
              "      <th>https://politics.theonion.com/boehner-just-wants-wife-to-listen-not-come-up-with-alt-1819574302</th>\n",
              "      <td>1</td>\n",
              "    </tr>\n",
              "    <tr>\n",
              "      <th>...</th>\n",
              "      <td>...</td>\n",
              "    </tr>\n",
              "    <tr>\n",
              "      <th>https://www.huffingtonpost.com/entry/barcelona-refugee-protest_us_58aa040ce4b037d17d290230</th>\n",
              "      <td>1</td>\n",
              "    </tr>\n",
              "    <tr>\n",
              "      <th>https://www.huffingtonpost.com/entry/jeffrey-lord-worst-comments_us_598cd410e4b09071f6989d91</th>\n",
              "      <td>1</td>\n",
              "    </tr>\n",
              "    <tr>\n",
              "      <th>https://www.huffingtonpost.comhttp://www.theguardian.com/world/2016/may/31/north-korea-praises-trump-and-urges-us-voters-to-reject-dull-hillary</th>\n",
              "      <td>1</td>\n",
              "    </tr>\n",
              "    <tr>\n",
              "      <th>https://www.huffingtonpost.com/entry/facebook-healthcare_n_5926140.html</th>\n",
              "      <td>1</td>\n",
              "    </tr>\n",
              "    <tr>\n",
              "      <th>https://www.huffingtonpost.com/entry/airline-passengers-tackle-man-who-rushes-cockpit-in-bomb-threat_us_59302e57e4b07572bdbf9460</th>\n",
              "      <td>1</td>\n",
              "    </tr>\n",
              "  </tbody>\n",
              "</table>\n",
              "<p>26602 rows × 1 columns</p>\n",
              "</div><br><label><b>dtype:</b> int64</label>"
            ]
          },
          "metadata": {},
          "execution_count": 10
        }
      ]
    },
    {
      "cell_type": "markdown",
      "metadata": {
        "id": "HAdXgKdGMxqO"
      },
      "source": [
        "### Preprocessing Function"
      ]
    },
    {
      "cell_type": "code",
      "execution_count": 11,
      "metadata": {
        "colab": {
          "base_uri": "https://localhost:8080/"
        },
        "id": "3sm___4sMxqP",
        "outputId": "5d25ccf6-85a7-4653-c917-1d49addfbbeb"
      },
      "outputs": [
        {
          "output_type": "stream",
          "name": "stderr",
          "text": [
            "[nltk_data] Downloading package punkt to /root/nltk_data...\n",
            "[nltk_data]   Package punkt is already up-to-date!\n",
            "[nltk_data] Downloading package stopwords to /root/nltk_data...\n",
            "[nltk_data]   Package stopwords is already up-to-date!\n",
            "[nltk_data] Downloading package wordnet to /root/nltk_data...\n",
            "[nltk_data]   Package wordnet is already up-to-date!\n"
          ]
        },
        {
          "output_type": "execute_result",
          "data": {
            "text/plain": [
              "True"
            ]
          },
          "metadata": {},
          "execution_count": 11
        }
      ],
      "source": [
        "nltk.download('punkt')\n",
        "nltk.download('stopwords')\n",
        "nltk.download('wordnet')"
      ]
    },
    {
      "cell_type": "code",
      "execution_count": 12,
      "metadata": {
        "id": "r3BSJFGaMxqQ"
      },
      "outputs": [],
      "source": [
        "def preprocess_text(text):\n",
        "\n",
        "    text = text.str.lower()\n",
        "\n",
        "    # this remove links and twitter handels, and emails etc\n",
        "    text = text.str.replace(r'http\\S+|www\\S+|https\\S+', '', regex=True)\n",
        "    text = text.str.replace(r'\\S+@\\S+', '', regex=True)\n",
        "    text = text.str.replace(r'@\\w+', '', regex=True)\n",
        "\n",
        "    text = text.str.replace(f'[{string.punctuation}]', '', regex=True)\n",
        "\n",
        "    text = text.str.replace(r'\\d+', '', regex=True)\n",
        "\n",
        "    text = text.str.replace(r'\\s+', ' ', regex=True).str.strip()\n",
        "\n",
        "    text_tokens = text.apply(nltk.word_tokenize)\n",
        "\n",
        "    stop_words = set(stopwords.words('english'))\n",
        "    text_tokens = text_tokens.apply(lambda tokens: [w for w in tokens if w not in stop_words])\n",
        "\n",
        "    lemmatizer = WordNetLemmatizer()\n",
        "    text_tokens = text_tokens.apply(lambda tokens: [lemmatizer.lemmatize(w) for w in tokens])\n",
        "\n",
        "    processed_text = text_tokens.apply(lambda tokens: ' '.join(tokens))\n",
        "\n",
        "    return processed_text\n"
      ]
    },
    {
      "cell_type": "code",
      "execution_count": 13,
      "metadata": {
        "id": "MQXAvT2BMxqU"
      },
      "outputs": [],
      "source": [
        "df = df_raw.copy()"
      ]
    },
    {
      "source": [
        "import nltk\n",
        "nltk.download('punkt')\n",
        "nltk.download('stopwords')\n",
        "nltk.download('wordnet')\n",
        "# Download the punkt_tab resource\n",
        "nltk.download('punkt_tab')"
      ],
      "cell_type": "code",
      "metadata": {
        "colab": {
          "base_uri": "https://localhost:8080/"
        },
        "id": "gCGamwC-ZYw5",
        "outputId": "ec7f3239-4c53-422e-e6c0-ea53c445d6c3"
      },
      "execution_count": 14,
      "outputs": [
        {
          "output_type": "stream",
          "name": "stderr",
          "text": [
            "[nltk_data] Downloading package punkt to /root/nltk_data...\n",
            "[nltk_data]   Package punkt is already up-to-date!\n",
            "[nltk_data] Downloading package stopwords to /root/nltk_data...\n",
            "[nltk_data]   Package stopwords is already up-to-date!\n",
            "[nltk_data] Downloading package wordnet to /root/nltk_data...\n",
            "[nltk_data]   Package wordnet is already up-to-date!\n",
            "[nltk_data] Downloading package punkt_tab to /root/nltk_data...\n",
            "[nltk_data]   Package punkt_tab is already up-to-date!\n"
          ]
        },
        {
          "output_type": "execute_result",
          "data": {
            "text/plain": [
              "True"
            ]
          },
          "metadata": {},
          "execution_count": 14
        }
      ]
    },
    {
      "cell_type": "code",
      "source": [
        "df[\"headline_clean\"] = preprocess_text(df[\"headline\"])"
      ],
      "metadata": {
        "id": "6psC7Q2JeOjB"
      },
      "execution_count": 15,
      "outputs": []
    },
    {
      "cell_type": "markdown",
      "metadata": {
        "id": "VHp3zUU9Mxqk"
      },
      "source": [
        "### Train - Test Split"
      ]
    },
    {
      "cell_type": "code",
      "source": [
        "X = df[\"headline_clean\"]\n",
        "y = df[\"is_sarcastic\"]"
      ],
      "metadata": {
        "id": "Om6UNynoff5v"
      },
      "execution_count": 16,
      "outputs": []
    },
    {
      "cell_type": "code",
      "execution_count": 17,
      "metadata": {
        "id": "7SqYmdN1Mxqs"
      },
      "outputs": [],
      "source": [
        "X_train, X_temp, y_train, y_temp = train_test_split(X, y, test_size=0.30, stratify=y, random_state=7)\n",
        "X_val, X_test, y_val, y_test = train_test_split(X_temp, y_temp, test_size=0.50, stratify=y_temp, random_state=7)\n",
        "\n",
        "\n",
        "\n",
        "X_train = X_train.reset_index(drop=True)\n",
        "X_val = X_val.reset_index(drop=True)\n",
        "X_test = X_test.reset_index(drop=True)\n",
        "y_train = y_train.reset_index(drop=True)\n",
        "y_val = y_val.reset_index(drop=True)\n",
        "y_test = y_test.reset_index(drop=True)"
      ]
    },
    {
      "cell_type": "code",
      "execution_count": 18,
      "metadata": {
        "colab": {
          "base_uri": "https://localhost:8080/"
        },
        "id": "MgL7ftZpMxqs",
        "outputId": "c749cbb0-c381-4f18-ffc7-c0ed93bf5cbd"
      },
      "outputs": [
        {
          "output_type": "stream",
          "name": "stdout",
          "text": [
            "(18621,)\n",
            "(3990,)\n",
            "(3991,)\n"
          ]
        }
      ],
      "source": [
        "print(X_train.shape)\n",
        "print(X_val.shape)\n",
        "print(X_test.shape)"
      ]
    },
    {
      "cell_type": "code",
      "source": [
        "# ===== NEW: Shuffled Labels Experiment =====\n",
        "print(\"\\n=== Shuffled Labels Experiment ===\")\n",
        "\n",
        "# Shuffle the training labels to destroy any real relationship\n",
        "y_train_shuffled = y_train.sample(frac=1.0, random_state=42).reset_index(drop=True)\n",
        "\n",
        "# Sanity check: make sure labels are actually shuffled\n",
        "assert not all(y_train_shuffled == y_train), \"Shuffling failed: labels match original\"\n",
        "\n",
        "# Create pipeline with TF-IDF + Logistic Regression\n",
        "shuffled_pipeline = make_pipeline(\n",
        "    TfidfVectorizer(stop_words='english', ngram_range=(1, 1)),\n",
        "    LogisticRegression(penalty='l2', C=0.1, max_iter=1000)\n",
        ")\n",
        "\n",
        "print(\"Fitting model on shuffled labels...\")\n",
        "shuffled_pipeline.fit(X_train, y_train_shuffled)\n",
        "\n",
        "print(\"Predicting on validation set with correct labels...\")\n",
        "y_val_pred_shuffled = shuffled_pipeline.predict(X_val)\n",
        "\n",
        "print(\"Evaluating model trained on shuffled labels:\")\n",
        "def evaluate_models(y_true, y_pred_dict, label=None):\n",
        "    metrics = {\n",
        "        'Model': [],\n",
        "        'Accuracy': [],\n",
        "        'Precision': [],\n",
        "        'Recall': [],\n",
        "        'F1-score': []\n",
        "    }\n",
        "    for model_name, y_pred in y_pred_dict.items():\n",
        "        print(f\"\\n===== {model_name}: {label if label else ''} =====\")\n",
        "        print(\"Classification Report:\")\n",
        "        print(classification_report(y_true, y_pred))\n",
        "\n",
        "        metrics['Model'].append(model_name)\n",
        "        metrics['Accuracy'].append(accuracy_score(y_true, y_pred))\n",
        "\n",
        "        unique_labels = np.unique(y_true)\n",
        "        if len(unique_labels) == 2:\n",
        "            metrics['Precision'].append(precision_score(y_true, y_pred, average='binary', pos_label=unique_labels[1]))\n",
        "            metrics['Recall'].append(recall_score(y_true, y_pred, average='binary', pos_label=unique_labels[1]))\n",
        "            metrics['F1-score'].append(f1_score(y_true, y_pred, average='binary', pos_label=unique_labels[1]))\n",
        "        else:\n",
        "            metrics['Precision'].append(precision_score(y_true, y_pred, average='weighted'))\n",
        "            metrics['Recall'].append(recall_score(y_true, y_pred, average='weighted'))\n",
        "            metrics['F1-score'].append(f1_score(y_true, y_pred, average='weighted'))\n",
        "\n",
        "    return pd.DataFrame(metrics)\n",
        "\n",
        "evaluate_models(y_val, {\"Shuffled Labels Model\": y_val_pred_shuffled}, label=\"Validation Set\")\n",
        "# ===== END NEW: Shuffled Labels Experiment ====="
      ],
      "metadata": {
        "colab": {
          "base_uri": "https://localhost:8080/",
          "height": 388
        },
        "id": "ZoZcjAtSYqZ8",
        "outputId": "e80061b2-071c-424a-f351-607031048e12"
      },
      "execution_count": 19,
      "outputs": [
        {
          "output_type": "stream",
          "name": "stdout",
          "text": [
            "\n",
            "=== Shuffled Labels Experiment ===\n",
            "Fitting model on shuffled labels...\n",
            "Predicting on validation set with correct labels...\n",
            "Evaluating model trained on shuffled labels:\n",
            "\n",
            "===== Shuffled Labels Model: Validation Set =====\n",
            "Classification Report:\n",
            "              precision    recall  f1-score   support\n",
            "\n",
            "           0       0.56      1.00      0.72      2243\n",
            "           1       0.55      0.00      0.01      1747\n",
            "\n",
            "    accuracy                           0.56      3990\n",
            "   macro avg       0.55      0.50      0.36      3990\n",
            "weighted avg       0.56      0.56      0.41      3990\n",
            "\n"
          ]
        },
        {
          "output_type": "execute_result",
          "data": {
            "text/plain": [
              "                   Model  Accuracy  Precision    Recall  F1-score\n",
              "0  Shuffled Labels Model  0.562406   0.545455  0.003434  0.006826"
            ],
            "text/html": [
              "\n",
              "  <div id=\"df-3ae1605b-15d2-4002-ba19-cf8a8a56fc57\" class=\"colab-df-container\">\n",
              "    <div>\n",
              "<style scoped>\n",
              "    .dataframe tbody tr th:only-of-type {\n",
              "        vertical-align: middle;\n",
              "    }\n",
              "\n",
              "    .dataframe tbody tr th {\n",
              "        vertical-align: top;\n",
              "    }\n",
              "\n",
              "    .dataframe thead th {\n",
              "        text-align: right;\n",
              "    }\n",
              "</style>\n",
              "<table border=\"1\" class=\"dataframe\">\n",
              "  <thead>\n",
              "    <tr style=\"text-align: right;\">\n",
              "      <th></th>\n",
              "      <th>Model</th>\n",
              "      <th>Accuracy</th>\n",
              "      <th>Precision</th>\n",
              "      <th>Recall</th>\n",
              "      <th>F1-score</th>\n",
              "    </tr>\n",
              "  </thead>\n",
              "  <tbody>\n",
              "    <tr>\n",
              "      <th>0</th>\n",
              "      <td>Shuffled Labels Model</td>\n",
              "      <td>0.562406</td>\n",
              "      <td>0.545455</td>\n",
              "      <td>0.003434</td>\n",
              "      <td>0.006826</td>\n",
              "    </tr>\n",
              "  </tbody>\n",
              "</table>\n",
              "</div>\n",
              "    <div class=\"colab-df-buttons\">\n",
              "\n",
              "  <div class=\"colab-df-container\">\n",
              "    <button class=\"colab-df-convert\" onclick=\"convertToInteractive('df-3ae1605b-15d2-4002-ba19-cf8a8a56fc57')\"\n",
              "            title=\"Convert this dataframe to an interactive table.\"\n",
              "            style=\"display:none;\">\n",
              "\n",
              "  <svg xmlns=\"http://www.w3.org/2000/svg\" height=\"24px\" viewBox=\"0 -960 960 960\">\n",
              "    <path d=\"M120-120v-720h720v720H120Zm60-500h600v-160H180v160Zm220 220h160v-160H400v160Zm0 220h160v-160H400v160ZM180-400h160v-160H180v160Zm440 0h160v-160H620v160ZM180-180h160v-160H180v160Zm440 0h160v-160H620v160Z\"/>\n",
              "  </svg>\n",
              "    </button>\n",
              "\n",
              "  <style>\n",
              "    .colab-df-container {\n",
              "      display:flex;\n",
              "      gap: 12px;\n",
              "    }\n",
              "\n",
              "    .colab-df-convert {\n",
              "      background-color: #E8F0FE;\n",
              "      border: none;\n",
              "      border-radius: 50%;\n",
              "      cursor: pointer;\n",
              "      display: none;\n",
              "      fill: #1967D2;\n",
              "      height: 32px;\n",
              "      padding: 0 0 0 0;\n",
              "      width: 32px;\n",
              "    }\n",
              "\n",
              "    .colab-df-convert:hover {\n",
              "      background-color: #E2EBFA;\n",
              "      box-shadow: 0px 1px 2px rgba(60, 64, 67, 0.3), 0px 1px 3px 1px rgba(60, 64, 67, 0.15);\n",
              "      fill: #174EA6;\n",
              "    }\n",
              "\n",
              "    .colab-df-buttons div {\n",
              "      margin-bottom: 4px;\n",
              "    }\n",
              "\n",
              "    [theme=dark] .colab-df-convert {\n",
              "      background-color: #3B4455;\n",
              "      fill: #D2E3FC;\n",
              "    }\n",
              "\n",
              "    [theme=dark] .colab-df-convert:hover {\n",
              "      background-color: #434B5C;\n",
              "      box-shadow: 0px 1px 3px 1px rgba(0, 0, 0, 0.15);\n",
              "      filter: drop-shadow(0px 1px 2px rgba(0, 0, 0, 0.3));\n",
              "      fill: #FFFFFF;\n",
              "    }\n",
              "  </style>\n",
              "\n",
              "    <script>\n",
              "      const buttonEl =\n",
              "        document.querySelector('#df-3ae1605b-15d2-4002-ba19-cf8a8a56fc57 button.colab-df-convert');\n",
              "      buttonEl.style.display =\n",
              "        google.colab.kernel.accessAllowed ? 'block' : 'none';\n",
              "\n",
              "      async function convertToInteractive(key) {\n",
              "        const element = document.querySelector('#df-3ae1605b-15d2-4002-ba19-cf8a8a56fc57');\n",
              "        const dataTable =\n",
              "          await google.colab.kernel.invokeFunction('convertToInteractive',\n",
              "                                                    [key], {});\n",
              "        if (!dataTable) return;\n",
              "\n",
              "        const docLinkHtml = 'Like what you see? Visit the ' +\n",
              "          '<a target=\"_blank\" href=https://colab.research.google.com/notebooks/data_table.ipynb>data table notebook</a>'\n",
              "          + ' to learn more about interactive tables.';\n",
              "        element.innerHTML = '';\n",
              "        dataTable['output_type'] = 'display_data';\n",
              "        await google.colab.output.renderOutput(dataTable, element);\n",
              "        const docLink = document.createElement('div');\n",
              "        docLink.innerHTML = docLinkHtml;\n",
              "        element.appendChild(docLink);\n",
              "      }\n",
              "    </script>\n",
              "  </div>\n",
              "\n",
              "\n",
              "    </div>\n",
              "  </div>\n"
            ],
            "application/vnd.google.colaboratory.intrinsic+json": {
              "type": "dataframe",
              "summary": "{\n  \"name\": \"# ===== END NEW: Shuffled Labels Experiment =====\",\n  \"rows\": 1,\n  \"fields\": [\n    {\n      \"column\": \"Model\",\n      \"properties\": {\n        \"dtype\": \"string\",\n        \"num_unique_values\": 1,\n        \"samples\": [\n          \"Shuffled Labels Model\"\n        ],\n        \"semantic_type\": \"\",\n        \"description\": \"\"\n      }\n    },\n    {\n      \"column\": \"Accuracy\",\n      \"properties\": {\n        \"dtype\": \"number\",\n        \"std\": null,\n        \"min\": 0.562406015037594,\n        \"max\": 0.562406015037594,\n        \"num_unique_values\": 1,\n        \"samples\": [\n          0.562406015037594\n        ],\n        \"semantic_type\": \"\",\n        \"description\": \"\"\n      }\n    },\n    {\n      \"column\": \"Precision\",\n      \"properties\": {\n        \"dtype\": \"number\",\n        \"std\": null,\n        \"min\": 0.5454545454545454,\n        \"max\": 0.5454545454545454,\n        \"num_unique_values\": 1,\n        \"samples\": [\n          0.5454545454545454\n        ],\n        \"semantic_type\": \"\",\n        \"description\": \"\"\n      }\n    },\n    {\n      \"column\": \"Recall\",\n      \"properties\": {\n        \"dtype\": \"number\",\n        \"std\": null,\n        \"min\": 0.0034344590726960505,\n        \"max\": 0.0034344590726960505,\n        \"num_unique_values\": 1,\n        \"samples\": [\n          0.0034344590726960505\n        ],\n        \"semantic_type\": \"\",\n        \"description\": \"\"\n      }\n    },\n    {\n      \"column\": \"F1-score\",\n      \"properties\": {\n        \"dtype\": \"number\",\n        \"std\": null,\n        \"min\": 0.006825938566552901,\n        \"max\": 0.006825938566552901,\n        \"num_unique_values\": 1,\n        \"samples\": [\n          0.006825938566552901\n        ],\n        \"semantic_type\": \"\",\n        \"description\": \"\"\n      }\n    }\n  ]\n}"
            }
          },
          "metadata": {},
          "execution_count": 19
        }
      ]
    },
    {
      "cell_type": "markdown",
      "metadata": {
        "id": "Vbno0YeBMxqu"
      },
      "source": [
        "## Model Fitting"
      ]
    },
    {
      "cell_type": "markdown",
      "metadata": {
        "id": "H9AaDyivMxqy"
      },
      "source": [
        "### Define functions for efficient model evaluation and fitting"
      ]
    },
    {
      "cell_type": "code",
      "execution_count": 20,
      "metadata": {
        "id": "Hw18uQ1eMxqy"
      },
      "outputs": [],
      "source": [
        "def evaluate_models(y_true, y_pred_dict, label=None):\n",
        "    \"\"\"\n",
        "    Evaluate and compare multiple models' predictions.\n",
        "    Parameters:\n",
        "    y_true : array-like\n",
        "        True labels.\n",
        "    y_pred_dict : dict\n",
        "        Dictionary where keys are model names and values are predicted labels.\n",
        "    label : str, optional\n",
        "        Description of the evaluation set (e.g., \"Validation Set\").\n",
        "    Returns:\n",
        "    pd.DataFrame containing accuracy, precision, recall, and F1 for each model.\n",
        "    \"\"\"\n",
        "\n",
        "    metrics = {\n",
        "        'Model': [],\n",
        "        'Accuracy': [],\n",
        "        'Precision': [],\n",
        "        'Recall': [],\n",
        "        'F1-score': []\n",
        "    }\n",
        "\n",
        "    for model_name, y_pred in y_pred_dict.items():\n",
        "        print(f\"\\n===== {model_name}: {label if label else ''} =====\")\n",
        "        print(\"Classification Report:\")\n",
        "        print(classification_report(y_true, y_pred))\n",
        "\n",
        "        metrics['Model'].append(model_name)\n",
        "        metrics['Accuracy'].append(accuracy_score(y_true, y_pred))\n",
        "\n",
        "        unique_labels = np.unique(y_true)\n",
        "        if len(unique_labels) == 2:\n",
        "            metrics['Precision'].append(precision_score(y_true, y_pred, average='binary', pos_label=unique_labels[1]))\n",
        "            metrics['Recall'].append(recall_score(y_true, y_pred, average='binary', pos_label=unique_labels[1]))\n",
        "            metrics['F1-score'].append(f1_score(y_true, y_pred, average='binary', pos_label=unique_labels[1]))\n",
        "        else:\n",
        "            metrics['Precision'].append(precision_score(y_true, y_pred, average='weighted'))\n",
        "            metrics['Recall'].append(recall_score(y_true, y_pred, average='weighted'))\n",
        "            metrics['F1-score'].append(f1_score(y_true, y_pred, average='weighted'))\n",
        "\n",
        "    return pd.DataFrame(metrics)\n"
      ]
    },
    {
      "cell_type": "code",
      "execution_count": 21,
      "metadata": {
        "id": "f3p_6o4TMxqz"
      },
      "outputs": [],
      "source": [
        "def fit_pipeline_predict_evaluate(\n",
        "    model_class,\n",
        "    model_name,\n",
        "    X_train,\n",
        "    y_train,\n",
        "    X_val,\n",
        "    y_val,\n",
        "    vectorizer_type='tfidf',\n",
        "    ngram_range=(1,1)\n",
        "):\n",
        "    if vectorizer_type == 'tfidf':\n",
        "        vectorizer = TfidfVectorizer(stop_words='english', ngram_range=ngram_range)\n",
        "    elif vectorizer_type == 'bow':\n",
        "        vectorizer = CountVectorizer(stop_words='english', ngram_range=ngram_range)\n",
        "    else:\n",
        "        raise ValueError(\"vectorizer_type must be either 'tfidf' or 'bow'\")\n",
        "\n",
        "    pipeline = make_pipeline(vectorizer, model_class)\n",
        "\n",
        "    print(f\"Fitting {model_name}...\")\n",
        "    pipeline.fit(X_train, y_train)\n",
        "\n",
        "    print(f\"Predicting on training set...\")\n",
        "    y_pred_train = pipeline.predict(X_train)\n",
        "\n",
        "    print(f\"Predicting on validation set...\")\n",
        "    y_pred_val = pipeline.predict(X_val)\n",
        "\n",
        "    print(f\"Evaluating {model_name} on training set...\")\n",
        "    train_metrics = evaluate_models(y_train, {model_name: y_pred_train}, label=\"Train Set\")\n",
        "\n",
        "    print(f\"Evaluating {model_name} on validation set...\")\n",
        "    val_metrics = evaluate_models(y_val, {model_name: y_pred_val}, label=\"Validation Set\")\n",
        "\n",
        "    train_metrics[\"Dataset\"] = \"Train\"\n",
        "    val_metrics[\"Dataset\"] = \"Validation\"\n",
        "\n",
        "    return pd.concat([train_metrics, val_metrics], ignore_index=True)"
      ]
    },
    {
      "cell_type": "markdown",
      "metadata": {
        "id": "ZmyVaEz7Mxq0"
      },
      "source": [
        "### Bag Of Words + Unigrams Vecotrizer"
      ]
    },
    {
      "cell_type": "code",
      "execution_count": 22,
      "metadata": {
        "colab": {
          "base_uri": "https://localhost:8080/"
        },
        "id": "ZEuNAt7dMxq7",
        "outputId": "a6defcdb-b076-4ec5-ea1c-844dd4dae006"
      },
      "outputs": [
        {
          "output_type": "stream",
          "name": "stdout",
          "text": [
            "Fitting Logistic Regression (BoW)...\n",
            "Predicting on training set...\n",
            "Predicting on validation set...\n",
            "Evaluating Logistic Regression (BoW) on training set...\n",
            "\n",
            "===== Logistic Regression (BoW): Train Set =====\n",
            "Classification Report:\n",
            "              precision    recall  f1-score   support\n",
            "\n",
            "           0       0.81      0.93      0.87     10465\n",
            "           1       0.88      0.72      0.80      8156\n",
            "\n",
            "    accuracy                           0.84     18621\n",
            "   macro avg       0.85      0.83      0.83     18621\n",
            "weighted avg       0.84      0.84      0.83     18621\n",
            "\n",
            "Evaluating Logistic Regression (BoW) on validation set...\n",
            "\n",
            "===== Logistic Regression (BoW): Validation Set =====\n",
            "Classification Report:\n",
            "              precision    recall  f1-score   support\n",
            "\n",
            "           0       0.74      0.88      0.81      2243\n",
            "           1       0.80      0.61      0.69      1747\n",
            "\n",
            "    accuracy                           0.76      3990\n",
            "   macro avg       0.77      0.75      0.75      3990\n",
            "weighted avg       0.77      0.76      0.76      3990\n",
            "\n",
            "                       Model  Accuracy  Precision    Recall  F1-score  \\\n",
            "0  Logistic Regression (BoW)  0.837603   0.884017  0.724252  0.796199   \n",
            "1  Logistic Regression (BoW)  0.762907   0.804100  0.606182  0.691253   \n",
            "\n",
            "      Dataset  \n",
            "0       Train  \n",
            "1  Validation  \n"
          ]
        }
      ],
      "source": [
        "logistic_bow_uni_metrics = fit_pipeline_predict_evaluate(\n",
        "    LogisticRegression(penalty='l2', C=0.1,max_iter=1000),\n",
        "    \"Logistic Regression (BoW)\",\n",
        "    X_train,\n",
        "    y_train,\n",
        "    X_val,\n",
        "    y_val,\n",
        "    vectorizer_type='bow',\n",
        "    ngram_range=(1, 1),\n",
        ")\n",
        "print(logistic_bow_uni_metrics)"
      ]
    },
    {
      "cell_type": "code",
      "execution_count": 23,
      "metadata": {
        "colab": {
          "base_uri": "https://localhost:8080/"
        },
        "id": "6yVdonqkMxq8",
        "outputId": "d305be54-fefd-441e-c9bc-e00b9e60da33"
      },
      "outputs": [
        {
          "output_type": "stream",
          "name": "stdout",
          "text": [
            "Fitting Multinomial Naive Bayes (BoW Unigrams)...\n",
            "Predicting on training set...\n",
            "Predicting on validation set...\n",
            "Evaluating Multinomial Naive Bayes (BoW Unigrams) on training set...\n",
            "\n",
            "===== Multinomial Naive Bayes (BoW Unigrams): Train Set =====\n",
            "Classification Report:\n",
            "              precision    recall  f1-score   support\n",
            "\n",
            "           0       0.87      0.93      0.90     10465\n",
            "           1       0.91      0.82      0.86      8156\n",
            "\n",
            "    accuracy                           0.89     18621\n",
            "   macro avg       0.89      0.88      0.88     18621\n",
            "weighted avg       0.89      0.89      0.88     18621\n",
            "\n",
            "Evaluating Multinomial Naive Bayes (BoW Unigrams) on validation set...\n",
            "\n",
            "===== Multinomial Naive Bayes (BoW Unigrams): Validation Set =====\n",
            "Classification Report:\n",
            "              precision    recall  f1-score   support\n",
            "\n",
            "           0       0.79      0.87      0.82      2243\n",
            "           1       0.80      0.70      0.75      1747\n",
            "\n",
            "    accuracy                           0.79      3990\n",
            "   macro avg       0.79      0.78      0.79      3990\n",
            "weighted avg       0.79      0.79      0.79      3990\n",
            "\n",
            "                                    Model  Accuracy  Precision    Recall  \\\n",
            "0  Multinomial Naive Bayes (BoW Unigrams)  0.885506   0.905711  0.824424   \n",
            "1  Multinomial Naive Bayes (BoW Unigrams)  0.792732   0.803831  0.696623   \n",
            "\n",
            "   F1-score     Dataset  \n",
            "0  0.863158       Train  \n",
            "1  0.746397  Validation  \n"
          ]
        }
      ],
      "source": [
        "bow_uni_nb_metrics = fit_pipeline_predict_evaluate(\n",
        "    model_class=MultinomialNB(alpha=3),\n",
        "    model_name=\"Multinomial Naive Bayes (BoW Unigrams)\",\n",
        "    X_train=X_train,\n",
        "    y_train=y_train,\n",
        "    X_val=X_val,\n",
        "    y_val=y_val,\n",
        "    vectorizer_type='bow',\n",
        "    ngram_range=(1, 1)\n",
        ")\n",
        "\n",
        "print(bow_uni_nb_metrics)"
      ]
    },
    {
      "cell_type": "code",
      "execution_count": 24,
      "metadata": {
        "colab": {
          "base_uri": "https://localhost:8080/"
        },
        "id": "H5829bDLMxq9",
        "outputId": "3cb9d31d-1b6e-4647-89c2-b7300cee4a04"
      },
      "outputs": [
        {
          "output_type": "stream",
          "name": "stdout",
          "text": [
            "Fitting Random Forest (BoW Unigrams)...\n",
            "Predicting on training set...\n",
            "Predicting on validation set...\n",
            "Evaluating Random Forest (BoW Unigrams) on training set...\n",
            "\n",
            "===== Random Forest (BoW Unigrams): Train Set =====\n",
            "Classification Report:\n",
            "              precision    recall  f1-score   support\n",
            "\n",
            "           0       0.71      0.94      0.81     10465\n",
            "           1       0.86      0.50      0.63      8156\n",
            "\n",
            "    accuracy                           0.75     18621\n",
            "   macro avg       0.78      0.72      0.72     18621\n",
            "weighted avg       0.77      0.75      0.73     18621\n",
            "\n",
            "Evaluating Random Forest (BoW Unigrams) on validation set...\n",
            "\n",
            "===== Random Forest (BoW Unigrams): Validation Set =====\n",
            "Classification Report:\n",
            "              precision    recall  f1-score   support\n",
            "\n",
            "           0       0.69      0.93      0.79      2243\n",
            "           1       0.84      0.45      0.59      1747\n",
            "\n",
            "    accuracy                           0.72      3990\n",
            "   macro avg       0.76      0.69      0.69      3990\n",
            "weighted avg       0.75      0.72      0.70      3990\n",
            "\n",
            "                          Model  Accuracy  Precision    Recall  F1-score  \\\n",
            "0  Random Forest (BoW Unigrams)  0.745771   0.862040  0.499510  0.632510   \n",
            "1  Random Forest (BoW Unigrams)  0.722556   0.838266  0.453921  0.588934   \n",
            "\n",
            "      Dataset  \n",
            "0       Train  \n",
            "1  Validation  \n"
          ]
        }
      ],
      "source": [
        "bow_uni_rf_metrics = fit_pipeline_predict_evaluate(\n",
        "    model_class=RandomForestClassifier(\n",
        "    n_estimators=100,\n",
        "    max_depth=120,\n",
        "    min_samples_leaf=5,\n",
        "    max_features='sqrt',\n",
        "    random_state=7),\n",
        "    model_name=\"Random Forest (BoW Unigrams)\",\n",
        "    X_train=X_train,\n",
        "    y_train=y_train,\n",
        "    X_val=X_val,\n",
        "    y_val=y_val,\n",
        "    vectorizer_type='bow',\n",
        "    ngram_range=(1, 1)\n",
        ")\n",
        "\n",
        "print(bow_uni_rf_metrics)"
      ]
    },
    {
      "cell_type": "code",
      "execution_count": 25,
      "metadata": {
        "colab": {
          "base_uri": "https://localhost:8080/"
        },
        "id": "IdyJGbp6MxrA",
        "outputId": "edc46796-5b67-4beb-ee01-0d9bf3973ea3"
      },
      "outputs": [
        {
          "output_type": "stream",
          "name": "stdout",
          "text": [
            "Fitting MLP...\n",
            "Predicting on training set...\n",
            "Predicting on validation set...\n",
            "Evaluating MLP on training set...\n",
            "\n",
            "===== MLP: Train Set =====\n",
            "Classification Report:\n",
            "              precision    recall  f1-score   support\n",
            "\n",
            "           0       0.92      0.94      0.93     10465\n",
            "           1       0.92      0.90      0.91      8156\n",
            "\n",
            "    accuracy                           0.92     18621\n",
            "   macro avg       0.92      0.92      0.92     18621\n",
            "weighted avg       0.92      0.92      0.92     18621\n",
            "\n",
            "Evaluating MLP on validation set...\n",
            "\n",
            "===== MLP: Validation Set =====\n",
            "Classification Report:\n",
            "              precision    recall  f1-score   support\n",
            "\n",
            "           0       0.80      0.85      0.82      2243\n",
            "           1       0.79      0.72      0.75      1747\n",
            "\n",
            "    accuracy                           0.79      3990\n",
            "   macro avg       0.79      0.79      0.79      3990\n",
            "weighted avg       0.79      0.79      0.79      3990\n",
            "\n",
            "  Model  Accuracy  Precision    Recall  F1-score     Dataset\n",
            "0   MLP  0.922024   0.922805  0.897008  0.909724       Train\n",
            "1   MLP  0.793484   0.789342  0.720664  0.753441  Validation\n"
          ]
        }
      ],
      "source": [
        "bow_uni_mlp_metrics = fit_pipeline_predict_evaluate(\n",
        "    model_class=MLPClassifier(\n",
        "    hidden_layer_sizes=(32,),\n",
        "    activation='relu',\n",
        "    solver='adam',\n",
        "    alpha=0.001,\n",
        "    batch_size=64,\n",
        "    learning_rate='adaptive',\n",
        "    max_iter=100,\n",
        "    early_stopping=True,\n",
        "    random_state=42\n",
        "),\n",
        "    model_name=\"MLP\",\n",
        "    X_train=X_train,\n",
        "    y_train=y_train,\n",
        "    X_val=X_val,\n",
        "    y_val=y_val,\n",
        "    vectorizer_type='bow',\n",
        "    ngram_range=(1, 1)\n",
        ")\n",
        "print(bow_uni_mlp_metrics)"
      ]
    },
    {
      "cell_type": "markdown",
      "metadata": {
        "id": "jzva3_H3MxrC"
      },
      "source": [
        "### Bag of Words + Bigrams Vecotrizer:"
      ]
    },
    {
      "cell_type": "code",
      "execution_count": 26,
      "metadata": {
        "colab": {
          "base_uri": "https://localhost:8080/"
        },
        "id": "60vqQymCMxrD",
        "outputId": "89c6c9db-340a-429a-d543-4eb17d81343d"
      },
      "outputs": [
        {
          "output_type": "stream",
          "name": "stdout",
          "text": [
            "Fitting Logistic Regression (BoW + Bigrams)...\n",
            "Predicting on training set...\n",
            "Predicting on validation set...\n",
            "Evaluating Logistic Regression (BoW + Bigrams) on training set...\n",
            "\n",
            "===== Logistic Regression (BoW + Bigrams): Train Set =====\n",
            "Classification Report:\n",
            "              precision    recall  f1-score   support\n",
            "\n",
            "           0       0.81      0.95      0.88     10465\n",
            "           1       0.92      0.72      0.81      8156\n",
            "\n",
            "    accuracy                           0.85     18621\n",
            "   macro avg       0.87      0.83      0.84     18621\n",
            "weighted avg       0.86      0.85      0.85     18621\n",
            "\n",
            "Evaluating Logistic Regression (BoW + Bigrams) on validation set...\n",
            "\n",
            "===== Logistic Regression (BoW + Bigrams): Validation Set =====\n",
            "Classification Report:\n",
            "              precision    recall  f1-score   support\n",
            "\n",
            "           0       0.72      0.91      0.80      2243\n",
            "           1       0.83      0.54      0.66      1747\n",
            "\n",
            "    accuracy                           0.75      3990\n",
            "   macro avg       0.77      0.73      0.73      3990\n",
            "weighted avg       0.77      0.75      0.74      3990\n",
            "\n",
            "                                 Model  Accuracy  Precision    Recall  \\\n",
            "0  Logistic Regression (BoW + Bigrams)  0.848451   0.920662  0.715669   \n",
            "1  Logistic Regression (BoW + Bigrams)  0.750627   0.826957  0.544362   \n",
            "\n",
            "   F1-score     Dataset  \n",
            "0  0.805326       Train  \n",
            "1  0.656541  Validation  \n"
          ]
        }
      ],
      "source": [
        "logistic_bow_bigrams_metrics = fit_pipeline_predict_evaluate(\n",
        "    LogisticRegression(penalty='l2', C=0.05,max_iter=1000),\n",
        "    \"Logistic Regression (BoW + Bigrams)\",\n",
        "    X_train,\n",
        "    y_train,\n",
        "    X_val,\n",
        "    y_val,\n",
        "    vectorizer_type='bow',\n",
        "    ngram_range=(1, 2)\n",
        ")\n",
        "print(logistic_bow_bigrams_metrics)"
      ]
    },
    {
      "cell_type": "code",
      "execution_count": 27,
      "metadata": {
        "colab": {
          "base_uri": "https://localhost:8080/"
        },
        "id": "TvU1uxXzMxrI",
        "outputId": "de953c9c-6099-44fe-9a0c-b364ae19fbd8"
      },
      "outputs": [
        {
          "output_type": "stream",
          "name": "stdout",
          "text": [
            "Fitting Multinomial Naive Bayes (BoW Bigrams)...\n",
            "Predicting on training set...\n",
            "Predicting on validation set...\n",
            "Evaluating Multinomial Naive Bayes (BoW Bigrams) on training set...\n",
            "\n",
            "===== Multinomial Naive Bayes (BoW Bigrams): Train Set =====\n",
            "Classification Report:\n",
            "              precision    recall  f1-score   support\n",
            "\n",
            "           0       0.87      0.97      0.92     10465\n",
            "           1       0.96      0.81      0.88      8156\n",
            "\n",
            "    accuracy                           0.90     18621\n",
            "   macro avg       0.91      0.89      0.90     18621\n",
            "weighted avg       0.91      0.90      0.90     18621\n",
            "\n",
            "Evaluating Multinomial Naive Bayes (BoW Bigrams) on validation set...\n",
            "\n",
            "===== Multinomial Naive Bayes (BoW Bigrams): Validation Set =====\n",
            "Classification Report:\n",
            "              precision    recall  f1-score   support\n",
            "\n",
            "           0       0.74      0.92      0.82      2243\n",
            "           1       0.86      0.58      0.69      1747\n",
            "\n",
            "    accuracy                           0.77      3990\n",
            "   macro avg       0.80      0.75      0.76      3990\n",
            "weighted avg       0.79      0.77      0.77      3990\n",
            "\n",
            "                                   Model  Accuracy  Precision    Recall  \\\n",
            "0  Multinomial Naive Bayes (BoW Bigrams)  0.902261   0.958068  0.812408   \n",
            "1  Multinomial Naive Bayes (BoW Bigrams)  0.774687   0.856902  0.582713   \n",
            "\n",
            "   F1-score     Dataset  \n",
            "0  0.879246       Train  \n",
            "1  0.693697  Validation  \n"
          ]
        }
      ],
      "source": [
        "bow_bi_nb_metrics = fit_pipeline_predict_evaluate(\n",
        "    model_class=MultinomialNB(alpha=10),\n",
        "    model_name=\"Multinomial Naive Bayes (BoW Bigrams)\",\n",
        "    X_train=X_train,\n",
        "    y_train=y_train,\n",
        "    X_val=X_val,\n",
        "    y_val=y_val,\n",
        "    vectorizer_type='bow',\n",
        "    ngram_range=(1, 2)\n",
        ")\n",
        "\n",
        "print(bow_bi_nb_metrics)"
      ]
    },
    {
      "cell_type": "code",
      "execution_count": 28,
      "metadata": {
        "colab": {
          "base_uri": "https://localhost:8080/"
        },
        "id": "q-RcBk2mMxrJ",
        "outputId": "48f8a8a7-31de-4830-b2b7-e2989e85a4fe"
      },
      "outputs": [
        {
          "output_type": "stream",
          "name": "stdout",
          "text": [
            "Fitting Random Forest (BoW Bigrams)...\n",
            "Predicting on training set...\n",
            "Predicting on validation set...\n",
            "Evaluating Random Forest (BoW Bigrams) on training set...\n",
            "\n",
            "===== Random Forest (BoW Bigrams): Train Set =====\n",
            "Classification Report:\n",
            "              precision    recall  f1-score   support\n",
            "\n",
            "           0       0.69      0.96      0.81     10465\n",
            "           1       0.90      0.45      0.60      8156\n",
            "\n",
            "    accuracy                           0.74     18621\n",
            "   macro avg       0.80      0.71      0.70     18621\n",
            "weighted avg       0.78      0.74      0.72     18621\n",
            "\n",
            "Evaluating Random Forest (BoW Bigrams) on validation set...\n",
            "\n",
            "===== Random Forest (BoW Bigrams): Validation Set =====\n",
            "Classification Report:\n",
            "              precision    recall  f1-score   support\n",
            "\n",
            "           0       0.67      0.95      0.79      2243\n",
            "           1       0.87      0.40      0.55      1747\n",
            "\n",
            "    accuracy                           0.71      3990\n",
            "   macro avg       0.77      0.68      0.67      3990\n",
            "weighted avg       0.76      0.71      0.68      3990\n",
            "\n",
            "                         Model  Accuracy  Precision    Recall  F1-score  \\\n",
            "0  Random Forest (BoW Bigrams)  0.738360   0.900488  0.452673   0.60248   \n",
            "1  Random Forest (BoW Bigrams)  0.711278   0.865929  0.402977   0.55000   \n",
            "\n",
            "      Dataset  \n",
            "0       Train  \n",
            "1  Validation  \n"
          ]
        }
      ],
      "source": [
        "bow_bi_rf_metrics = fit_pipeline_predict_evaluate(\n",
        "    model_class=RandomForestClassifier(\n",
        "    n_estimators=100,\n",
        "    max_depth=120,\n",
        "    min_samples_leaf=5,\n",
        "    max_features='sqrt',\n",
        "    random_state=7),\n",
        "    model_name=\"Random Forest (BoW Bigrams)\",\n",
        "    X_train=X_train,\n",
        "    y_train=y_train,\n",
        "    X_val=X_val,\n",
        "    y_val=y_val,\n",
        "    vectorizer_type='bow',\n",
        "    ngram_range=(1, 2)\n",
        ")\n",
        "\n",
        "print(bow_bi_rf_metrics)"
      ]
    },
    {
      "cell_type": "code",
      "execution_count": 29,
      "metadata": {
        "colab": {
          "base_uri": "https://localhost:8080/"
        },
        "id": "zhz5vhzPMxrS",
        "outputId": "ff469d33-91e2-4fc9-d553-a7640915f949"
      },
      "outputs": [
        {
          "output_type": "stream",
          "name": "stdout",
          "text": [
            "Fitting MLP...\n",
            "Predicting on training set...\n",
            "Predicting on validation set...\n",
            "Evaluating MLP on training set...\n",
            "\n",
            "===== MLP: Train Set =====\n",
            "Classification Report:\n",
            "              precision    recall  f1-score   support\n",
            "\n",
            "           0       0.98      0.99      0.98     10465\n",
            "           1       0.98      0.97      0.98      8156\n",
            "\n",
            "    accuracy                           0.98     18621\n",
            "   macro avg       0.98      0.98      0.98     18621\n",
            "weighted avg       0.98      0.98      0.98     18621\n",
            "\n",
            "Evaluating MLP on validation set...\n",
            "\n",
            "===== MLP: Validation Set =====\n",
            "Classification Report:\n",
            "              precision    recall  f1-score   support\n",
            "\n",
            "           0       0.80      0.87      0.83      2243\n",
            "           1       0.81      0.73      0.77      1747\n",
            "\n",
            "    accuracy                           0.81      3990\n",
            "   macro avg       0.81      0.80      0.80      3990\n",
            "weighted avg       0.81      0.81      0.80      3990\n",
            "\n",
            "  Model  Accuracy  Precision    Recall  F1-score     Dataset\n",
            "0   MLP  0.979002   0.981879  0.969961  0.975884       Train\n",
            "1   MLP  0.805764   0.809554  0.727533  0.766355  Validation\n"
          ]
        }
      ],
      "source": [
        "bow_bi_mlp_metrics = fit_pipeline_predict_evaluate(\n",
        "    model_class=MLPClassifier(\n",
        "    hidden_layer_sizes=(32,),\n",
        "    activation='relu',\n",
        "    solver='adam',\n",
        "    alpha=0.001,\n",
        "    batch_size=64,\n",
        "    learning_rate='adaptive',\n",
        "    max_iter=100,\n",
        "    early_stopping=True,\n",
        "    random_state=42\n",
        "),\n",
        "    model_name=\"MLP\",\n",
        "    X_train=X_train,\n",
        "    y_train=y_train,\n",
        "    X_val=X_val,\n",
        "    y_val=y_val,\n",
        "    vectorizer_type='bow',\n",
        "    ngram_range=(1, 2)\n",
        ")\n",
        "print(bow_bi_mlp_metrics)"
      ]
    },
    {
      "cell_type": "markdown",
      "metadata": {
        "id": "Q1acenPVMxrT"
      },
      "source": [
        "### TF-IDF Vectorizer:"
      ]
    },
    {
      "cell_type": "code",
      "execution_count": 30,
      "metadata": {
        "colab": {
          "base_uri": "https://localhost:8080/"
        },
        "id": "C3UDEAUTMxrU",
        "outputId": "2b2152e6-5599-48b5-bc79-0344b4f8749e"
      },
      "outputs": [
        {
          "output_type": "stream",
          "name": "stdout",
          "text": [
            "Fitting Logistic Regression...\n",
            "Predicting on training set...\n",
            "Predicting on validation set...\n",
            "Evaluating Logistic Regression on training set...\n",
            "\n",
            "===== Logistic Regression: Train Set =====\n",
            "Classification Report:\n",
            "              precision    recall  f1-score   support\n",
            "\n",
            "           0       0.68      0.97      0.80     10465\n",
            "           1       0.90      0.42      0.57      8156\n",
            "\n",
            "    accuracy                           0.73     18621\n",
            "   macro avg       0.79      0.69      0.69     18621\n",
            "weighted avg       0.78      0.73      0.70     18621\n",
            "\n",
            "Evaluating Logistic Regression on validation set...\n",
            "\n",
            "===== Logistic Regression: Validation Set =====\n",
            "Classification Report:\n",
            "              precision    recall  f1-score   support\n",
            "\n",
            "           0       0.67      0.96      0.79      2243\n",
            "           1       0.88      0.38      0.53      1747\n",
            "\n",
            "    accuracy                           0.71      3990\n",
            "   macro avg       0.77      0.67      0.66      3990\n",
            "weighted avg       0.76      0.71      0.68      3990\n",
            "\n",
            "                 Model  Accuracy  Precision    Recall  F1-score     Dataset\n",
            "0  Logistic Regression  0.726492   0.903983  0.420181  0.573701       Train\n",
            "1  Logistic Regression  0.707519   0.883598  0.382370  0.533759  Validation\n"
          ]
        }
      ],
      "source": [
        "logistic_tfidf_metrics = fit_pipeline_predict_evaluate(\n",
        "    LogisticRegression(penalty='l2', C=0.1, max_iter=1000),\n",
        "    \"Logistic Regression\",\n",
        "    X_train,\n",
        "    y_train,\n",
        "    X_val,\n",
        "    y_val,\n",
        "    vectorizer_type='tfidf',\n",
        "    ngram_range=(1, 1)\n",
        ")\n",
        "print(logistic_tfidf_metrics)"
      ]
    },
    {
      "cell_type": "code",
      "execution_count": 31,
      "metadata": {
        "colab": {
          "base_uri": "https://localhost:8080/"
        },
        "id": "co27oZPIMxrU",
        "outputId": "e948be2e-ec34-4ccf-e1ea-d7fa1f515825"
      },
      "outputs": [
        {
          "output_type": "stream",
          "name": "stdout",
          "text": [
            "Fitting Multinomial Naive Bayes (TF-IDF Unigrams)...\n",
            "Predicting on training set...\n",
            "Predicting on validation set...\n",
            "Evaluating Multinomial Naive Bayes (TF-IDF Unigrams) on training set...\n",
            "\n",
            "===== Multinomial Naive Bayes (TF-IDF Unigrams): Train Set =====\n",
            "Classification Report:\n",
            "              precision    recall  f1-score   support\n",
            "\n",
            "           0       0.72      0.99      0.83     10465\n",
            "           1       0.97      0.50      0.66      8156\n",
            "\n",
            "    accuracy                           0.77     18621\n",
            "   macro avg       0.84      0.74      0.74     18621\n",
            "weighted avg       0.83      0.77      0.75     18621\n",
            "\n",
            "Evaluating Multinomial Naive Bayes (TF-IDF Unigrams) on validation set...\n",
            "\n",
            "===== Multinomial Naive Bayes (TF-IDF Unigrams): Validation Set =====\n",
            "Classification Report:\n",
            "              precision    recall  f1-score   support\n",
            "\n",
            "           0       0.67      0.97      0.79      2243\n",
            "           1       0.92      0.37      0.53      1747\n",
            "\n",
            "    accuracy                           0.71      3990\n",
            "   macro avg       0.79      0.67      0.66      3990\n",
            "weighted avg       0.78      0.71      0.68      3990\n",
            "\n",
            "                                       Model  Accuracy  Precision    Recall  \\\n",
            "0  Multinomial Naive Bayes (TF-IDF Unigrams)  0.772998   0.969415  0.497425   \n",
            "1  Multinomial Naive Bayes (TF-IDF Unigrams)  0.711529   0.917367  0.374928   \n",
            "\n",
            "   F1-score     Dataset  \n",
            "0  0.657483       Train  \n",
            "1  0.532304  Validation  \n"
          ]
        }
      ],
      "source": [
        "tfidf_uni_nb_metrics = fit_pipeline_predict_evaluate(\n",
        "    model_class=MultinomialNB(alpha=7),\n",
        "    model_name=\"Multinomial Naive Bayes (TF-IDF Unigrams)\",\n",
        "    X_train=X_train,\n",
        "    y_train=y_train,\n",
        "    X_val=X_val,\n",
        "    y_val=y_val,\n",
        "    vectorizer_type='tfidf',\n",
        "    ngram_range=(1, 1)\n",
        ")\n",
        "\n",
        "print(tfidf_uni_nb_metrics)"
      ]
    },
    {
      "cell_type": "code",
      "execution_count": 32,
      "metadata": {
        "colab": {
          "base_uri": "https://localhost:8080/"
        },
        "id": "dQg80WrBMxrX",
        "outputId": "647c958d-1d0f-4818-ca74-f7730606c8f2"
      },
      "outputs": [
        {
          "output_type": "stream",
          "name": "stdout",
          "text": [
            "Fitting Random Forest (TF-IDF Unigrams)...\n",
            "Predicting on training set...\n",
            "Predicting on validation set...\n",
            "Evaluating Random Forest (TF-IDF Unigrams) on training set...\n",
            "\n",
            "===== Random Forest (TF-IDF Unigrams): Train Set =====\n",
            "Classification Report:\n",
            "              precision    recall  f1-score   support\n",
            "\n",
            "           0       0.72      0.93      0.81     10465\n",
            "           1       0.86      0.53      0.65      8156\n",
            "\n",
            "    accuracy                           0.76     18621\n",
            "   macro avg       0.79      0.73      0.73     18621\n",
            "weighted avg       0.78      0.76      0.74     18621\n",
            "\n",
            "Evaluating Random Forest (TF-IDF Unigrams) on validation set...\n",
            "\n",
            "===== Random Forest (TF-IDF Unigrams): Validation Set =====\n",
            "Classification Report:\n",
            "              precision    recall  f1-score   support\n",
            "\n",
            "           0       0.69      0.93      0.79      2243\n",
            "           1       0.83      0.46      0.59      1747\n",
            "\n",
            "    accuracy                           0.72      3990\n",
            "   macro avg       0.76      0.69      0.69      3990\n",
            "weighted avg       0.75      0.72      0.70      3990\n",
            "\n",
            "                             Model  Accuracy  Precision    Recall  F1-score  \\\n",
            "0  Random Forest (TF-IDF Unigrams)  0.755437   0.858337  0.528936  0.654529   \n",
            "1  Random Forest (TF-IDF Unigrams)  0.720301   0.826943  0.456783  0.588496   \n",
            "\n",
            "      Dataset  \n",
            "0       Train  \n",
            "1  Validation  \n"
          ]
        }
      ],
      "source": [
        "tfidf_uni_rf_metrics = fit_pipeline_predict_evaluate(\n",
        "    model_class=RandomForestClassifier(\n",
        "    n_estimators=100,\n",
        "    max_depth=120,\n",
        "    min_samples_leaf=5,\n",
        "    max_features='sqrt',\n",
        "    random_state=7),\n",
        "    model_name=\"Random Forest (TF-IDF Unigrams)\",\n",
        "    X_train=X_train,\n",
        "    y_train=y_train,\n",
        "    X_val=X_val,\n",
        "    y_val=y_val,\n",
        "    vectorizer_type='tfidf',\n",
        "    ngram_range=(1, 1)\n",
        ")\n",
        "\n",
        "print(tfidf_uni_rf_metrics)"
      ]
    },
    {
      "cell_type": "code",
      "execution_count": 33,
      "metadata": {
        "colab": {
          "base_uri": "https://localhost:8080/"
        },
        "id": "eBOTXhwsMxre",
        "outputId": "ff02b1ff-5072-4709-8af0-7dbd2a50b938"
      },
      "outputs": [
        {
          "output_type": "stream",
          "name": "stdout",
          "text": [
            "Fitting MLP...\n",
            "Predicting on training set...\n",
            "Predicting on validation set...\n",
            "Evaluating MLP on training set...\n",
            "\n",
            "===== MLP: Train Set =====\n",
            "Classification Report:\n",
            "              precision    recall  f1-score   support\n",
            "\n",
            "           0       0.95      0.96      0.95     10465\n",
            "           1       0.95      0.93      0.94      8156\n",
            "\n",
            "    accuracy                           0.95     18621\n",
            "   macro avg       0.95      0.94      0.95     18621\n",
            "weighted avg       0.95      0.95      0.95     18621\n",
            "\n",
            "Evaluating MLP on validation set...\n",
            "\n",
            "===== MLP: Validation Set =====\n",
            "Classification Report:\n",
            "              precision    recall  f1-score   support\n",
            "\n",
            "           0       0.80      0.83      0.82      2243\n",
            "           1       0.77      0.74      0.75      1747\n",
            "\n",
            "    accuracy                           0.79      3990\n",
            "   macro avg       0.79      0.78      0.78      3990\n",
            "weighted avg       0.79      0.79      0.79      3990\n",
            "\n",
            "  Model  Accuracy  Precision    Recall  F1-score     Dataset\n",
            "0   MLP  0.946566   0.947507  0.929500  0.938417       Train\n",
            "1   MLP  0.788972   0.769506  0.739554  0.754232  Validation\n"
          ]
        }
      ],
      "source": [
        "tfidf_mlp_metrics = fit_pipeline_predict_evaluate(\n",
        "    model_class=MLPClassifier(\n",
        "    hidden_layer_sizes=(32,),\n",
        "    activation='relu',\n",
        "    solver='adam',\n",
        "    alpha=0.001,\n",
        "    batch_size=64,\n",
        "    learning_rate='adaptive',\n",
        "    max_iter=100,\n",
        "    early_stopping=True,\n",
        "    random_state=42\n",
        "),\n",
        "    model_name=\"MLP\",\n",
        "    X_train=X_train,\n",
        "    y_train=y_train,\n",
        "    X_val=X_val,\n",
        "    y_val=y_val,\n",
        "    vectorizer_type='tfidf',\n",
        "    ngram_range=(1, 1)\n",
        ")\n",
        "print(tfidf_mlp_metrics)"
      ]
    }
  ],
  "metadata": {
    "kernelspec": {
      "display_name": "Python 3",
      "language": "python",
      "name": "python3"
    },
    "language_info": {
      "codemirror_mode": {
        "name": "ipython",
        "version": 3
      },
      "file_extension": ".py",
      "mimetype": "text/x-python",
      "name": "python",
      "nbconvert_exporter": "python",
      "pygments_lexer": "ipython3",
      "version": "3.9.6"
    },
    "colab": {
      "provenance": []
    }
  },
  "nbformat": 4,
  "nbformat_minor": 0
}